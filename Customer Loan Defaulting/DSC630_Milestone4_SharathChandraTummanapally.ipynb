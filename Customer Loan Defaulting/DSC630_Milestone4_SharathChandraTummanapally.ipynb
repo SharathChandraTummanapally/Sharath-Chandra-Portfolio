{
 "cells": [
  {
   "cell_type": "code",
   "execution_count": 46,
   "id": "1ac0d89b",
   "metadata": {},
   "outputs": [],
   "source": [
    "import pandas as pd\n",
    "import matplotlib.pyplot as plt\n",
    "import numpy as np"
   ]
  },
  {
   "cell_type": "code",
   "execution_count": 47,
   "id": "6ef4a61f",
   "metadata": {},
   "outputs": [
    {
     "data": {
      "text/html": [
       "<div>\n",
       "<style scoped>\n",
       "    .dataframe tbody tr th:only-of-type {\n",
       "        vertical-align: middle;\n",
       "    }\n",
       "\n",
       "    .dataframe tbody tr th {\n",
       "        vertical-align: top;\n",
       "    }\n",
       "\n",
       "    .dataframe thead th {\n",
       "        text-align: right;\n",
       "    }\n",
       "</style>\n",
       "<table border=\"1\" class=\"dataframe\">\n",
       "  <thead>\n",
       "    <tr style=\"text-align: right;\">\n",
       "      <th></th>\n",
       "      <th>Id</th>\n",
       "      <th>Income</th>\n",
       "      <th>Age</th>\n",
       "      <th>Experience</th>\n",
       "      <th>Married/Single</th>\n",
       "      <th>House_Ownership</th>\n",
       "      <th>Car_Ownership</th>\n",
       "      <th>Profession</th>\n",
       "      <th>CITY</th>\n",
       "      <th>STATE</th>\n",
       "      <th>CURRENT_JOB_YRS</th>\n",
       "      <th>CURRENT_HOUSE_YRS</th>\n",
       "      <th>Risk_Flag</th>\n",
       "    </tr>\n",
       "  </thead>\n",
       "  <tbody>\n",
       "    <tr>\n",
       "      <th>0</th>\n",
       "      <td>1</td>\n",
       "      <td>1303834</td>\n",
       "      <td>23</td>\n",
       "      <td>3</td>\n",
       "      <td>single</td>\n",
       "      <td>rented</td>\n",
       "      <td>no</td>\n",
       "      <td>Mechanical_engineer</td>\n",
       "      <td>Rewa</td>\n",
       "      <td>Madhya_Pradesh</td>\n",
       "      <td>3</td>\n",
       "      <td>13</td>\n",
       "      <td>0</td>\n",
       "    </tr>\n",
       "    <tr>\n",
       "      <th>1</th>\n",
       "      <td>2</td>\n",
       "      <td>7574516</td>\n",
       "      <td>40</td>\n",
       "      <td>10</td>\n",
       "      <td>single</td>\n",
       "      <td>rented</td>\n",
       "      <td>no</td>\n",
       "      <td>Software_Developer</td>\n",
       "      <td>Parbhani</td>\n",
       "      <td>Maharashtra</td>\n",
       "      <td>9</td>\n",
       "      <td>13</td>\n",
       "      <td>0</td>\n",
       "    </tr>\n",
       "    <tr>\n",
       "      <th>2</th>\n",
       "      <td>3</td>\n",
       "      <td>3991815</td>\n",
       "      <td>66</td>\n",
       "      <td>4</td>\n",
       "      <td>married</td>\n",
       "      <td>rented</td>\n",
       "      <td>no</td>\n",
       "      <td>Technical_writer</td>\n",
       "      <td>Alappuzha</td>\n",
       "      <td>Kerala</td>\n",
       "      <td>4</td>\n",
       "      <td>10</td>\n",
       "      <td>0</td>\n",
       "    </tr>\n",
       "    <tr>\n",
       "      <th>3</th>\n",
       "      <td>4</td>\n",
       "      <td>6256451</td>\n",
       "      <td>41</td>\n",
       "      <td>2</td>\n",
       "      <td>single</td>\n",
       "      <td>rented</td>\n",
       "      <td>yes</td>\n",
       "      <td>Software_Developer</td>\n",
       "      <td>Bhubaneswar</td>\n",
       "      <td>Odisha</td>\n",
       "      <td>2</td>\n",
       "      <td>12</td>\n",
       "      <td>1</td>\n",
       "    </tr>\n",
       "    <tr>\n",
       "      <th>4</th>\n",
       "      <td>5</td>\n",
       "      <td>5768871</td>\n",
       "      <td>47</td>\n",
       "      <td>11</td>\n",
       "      <td>single</td>\n",
       "      <td>rented</td>\n",
       "      <td>no</td>\n",
       "      <td>Civil_servant</td>\n",
       "      <td>Tiruchirappalli[10]</td>\n",
       "      <td>Tamil_Nadu</td>\n",
       "      <td>3</td>\n",
       "      <td>14</td>\n",
       "      <td>1</td>\n",
       "    </tr>\n",
       "  </tbody>\n",
       "</table>\n",
       "</div>"
      ],
      "text/plain": [
       "   Id   Income  Age  Experience Married/Single House_Ownership Car_Ownership  \\\n",
       "0   1  1303834   23           3         single          rented            no   \n",
       "1   2  7574516   40          10         single          rented            no   \n",
       "2   3  3991815   66           4        married          rented            no   \n",
       "3   4  6256451   41           2         single          rented           yes   \n",
       "4   5  5768871   47          11         single          rented            no   \n",
       "\n",
       "            Profession                 CITY           STATE  CURRENT_JOB_YRS  \\\n",
       "0  Mechanical_engineer                 Rewa  Madhya_Pradesh                3   \n",
       "1   Software_Developer             Parbhani     Maharashtra                9   \n",
       "2     Technical_writer            Alappuzha          Kerala                4   \n",
       "3   Software_Developer          Bhubaneswar          Odisha                2   \n",
       "4        Civil_servant  Tiruchirappalli[10]      Tamil_Nadu                3   \n",
       "\n",
       "   CURRENT_HOUSE_YRS  Risk_Flag  \n",
       "0                 13          0  \n",
       "1                 13          0  \n",
       "2                 10          0  \n",
       "3                 12          1  \n",
       "4                 14          1  "
      ]
     },
     "execution_count": 47,
     "metadata": {},
     "output_type": "execute_result"
    }
   ],
   "source": [
    "# Loading CSV data into data frame.\n",
    "Cust_Loan_df = pd.read_csv('Data/Final Project/Customer_Loan_Data.csv')\n",
    "\n",
    "# Checking the data.\n",
    "Cust_Loan_df.head()"
   ]
  },
  {
   "cell_type": "code",
   "execution_count": 48,
   "id": "553cfb84",
   "metadata": {},
   "outputs": [
    {
     "data": {
      "text/plain": [
       "(252000, 13)"
      ]
     },
     "execution_count": 48,
     "metadata": {},
     "output_type": "execute_result"
    }
   ],
   "source": [
    "# Checking the total rows and columns of data frame.\n",
    "Cust_Loan_df.shape"
   ]
  },
  {
   "cell_type": "code",
   "execution_count": 49,
   "id": "06e19c6d",
   "metadata": {},
   "outputs": [
    {
     "data": {
      "text/plain": [
       "Index(['Id', 'Income', 'Age', 'Experience', 'Married/Single',\n",
       "       'House_Ownership', 'Car_Ownership', 'Profession', 'CITY', 'STATE',\n",
       "       'CURRENT_JOB_YRS', 'CURRENT_HOUSE_YRS', 'Risk_Flag'],\n",
       "      dtype='object')"
      ]
     },
     "execution_count": 49,
     "metadata": {},
     "output_type": "execute_result"
    }
   ],
   "source": [
    "# Checking the features.\n",
    "Cust_Loan_df.columns"
   ]
  },
  {
   "cell_type": "code",
   "execution_count": 50,
   "id": "159237f9",
   "metadata": {},
   "outputs": [
    {
     "data": {
      "text/plain": [
       "Id                    int64\n",
       "Income                int64\n",
       "Age                   int64\n",
       "Experience            int64\n",
       "Married/Single       object\n",
       "House_Ownership      object\n",
       "Car_Ownership        object\n",
       "Profession           object\n",
       "CITY                 object\n",
       "STATE                object\n",
       "CURRENT_JOB_YRS       int64\n",
       "CURRENT_HOUSE_YRS     int64\n",
       "Risk_Flag             int64\n",
       "dtype: object"
      ]
     },
     "execution_count": 50,
     "metadata": {},
     "output_type": "execute_result"
    }
   ],
   "source": [
    "# Checking the feature datatypes.\n",
    "Cust_Loan_df.dtypes"
   ]
  },
  {
   "cell_type": "markdown",
   "id": "66d687ca",
   "metadata": {},
   "source": [
    "### Step 1 - Prepping Data:"
   ]
  },
  {
   "cell_type": "code",
   "execution_count": 51,
   "id": "b016deec",
   "metadata": {},
   "outputs": [],
   "source": [
    "# Identifying unwanted columns and deleting them from data frame as they are not required for our analysis.\n",
    "\n",
    "# Removing unwanted columns from dataframe.\n",
    "Cust_Loan_df = Cust_Loan_df.drop(['Id','CITY','STATE','Experience','Married/Single','Profession','CURRENT_JOB_YRS','CURRENT_HOUSE_YRS'], axis = 1)\n"
   ]
  },
  {
   "cell_type": "code",
   "execution_count": 39,
   "id": "48116fb2",
   "metadata": {},
   "outputs": [
    {
     "data": {
      "text/plain": [
       "Income                          0\n",
       "Age                             0\n",
       "House_Ownership                 0\n",
       "Car_Ownership                   0\n",
       "Risk_Flag                       0\n",
       "House_Ownership_norent_noown    0\n",
       "House_Ownership_owned           0\n",
       "House_Ownership_rented          0\n",
       "Car_Ownership_no                0\n",
       "Car_Ownership_yes               0\n",
       "dtype: int64"
      ]
     },
     "execution_count": 39,
     "metadata": {},
     "output_type": "execute_result"
    }
   ],
   "source": [
    "# Identifying outliers/bad data: Checking if there are any null values.\n",
    "\n",
    "Cust_Loan_df.isna().sum()"
   ]
  },
  {
   "cell_type": "code",
   "execution_count": 40,
   "id": "7c777be0",
   "metadata": {},
   "outputs": [
    {
     "data": {
      "text/html": [
       "<div>\n",
       "<style scoped>\n",
       "    .dataframe tbody tr th:only-of-type {\n",
       "        vertical-align: middle;\n",
       "    }\n",
       "\n",
       "    .dataframe tbody tr th {\n",
       "        vertical-align: top;\n",
       "    }\n",
       "\n",
       "    .dataframe thead th {\n",
       "        text-align: right;\n",
       "    }\n",
       "</style>\n",
       "<table border=\"1\" class=\"dataframe\">\n",
       "  <thead>\n",
       "    <tr style=\"text-align: right;\">\n",
       "      <th></th>\n",
       "      <th>Income</th>\n",
       "      <th>Age</th>\n",
       "      <th>House_Ownership</th>\n",
       "      <th>Car_Ownership</th>\n",
       "      <th>Risk_Flag</th>\n",
       "      <th>House_Ownership_norent_noown</th>\n",
       "      <th>House_Ownership_owned</th>\n",
       "      <th>House_Ownership_rented</th>\n",
       "      <th>Car_Ownership_no</th>\n",
       "      <th>Car_Ownership_yes</th>\n",
       "      <th>House_Ownership_norent_noown</th>\n",
       "      <th>House_Ownership_owned</th>\n",
       "      <th>House_Ownership_rented</th>\n",
       "      <th>Car_Ownership_no</th>\n",
       "      <th>Car_Ownership_yes</th>\n",
       "    </tr>\n",
       "  </thead>\n",
       "  <tbody>\n",
       "    <tr>\n",
       "      <th>0</th>\n",
       "      <td>1303834</td>\n",
       "      <td>23</td>\n",
       "      <td>rented</td>\n",
       "      <td>no</td>\n",
       "      <td>0</td>\n",
       "      <td>0</td>\n",
       "      <td>0</td>\n",
       "      <td>1</td>\n",
       "      <td>1</td>\n",
       "      <td>0</td>\n",
       "      <td>0</td>\n",
       "      <td>0</td>\n",
       "      <td>1</td>\n",
       "      <td>1</td>\n",
       "      <td>0</td>\n",
       "    </tr>\n",
       "    <tr>\n",
       "      <th>1</th>\n",
       "      <td>7574516</td>\n",
       "      <td>40</td>\n",
       "      <td>rented</td>\n",
       "      <td>no</td>\n",
       "      <td>0</td>\n",
       "      <td>0</td>\n",
       "      <td>0</td>\n",
       "      <td>1</td>\n",
       "      <td>1</td>\n",
       "      <td>0</td>\n",
       "      <td>0</td>\n",
       "      <td>0</td>\n",
       "      <td>1</td>\n",
       "      <td>1</td>\n",
       "      <td>0</td>\n",
       "    </tr>\n",
       "    <tr>\n",
       "      <th>2</th>\n",
       "      <td>3991815</td>\n",
       "      <td>66</td>\n",
       "      <td>rented</td>\n",
       "      <td>no</td>\n",
       "      <td>0</td>\n",
       "      <td>0</td>\n",
       "      <td>0</td>\n",
       "      <td>1</td>\n",
       "      <td>1</td>\n",
       "      <td>0</td>\n",
       "      <td>0</td>\n",
       "      <td>0</td>\n",
       "      <td>1</td>\n",
       "      <td>1</td>\n",
       "      <td>0</td>\n",
       "    </tr>\n",
       "    <tr>\n",
       "      <th>3</th>\n",
       "      <td>6256451</td>\n",
       "      <td>41</td>\n",
       "      <td>rented</td>\n",
       "      <td>yes</td>\n",
       "      <td>1</td>\n",
       "      <td>0</td>\n",
       "      <td>0</td>\n",
       "      <td>1</td>\n",
       "      <td>0</td>\n",
       "      <td>1</td>\n",
       "      <td>0</td>\n",
       "      <td>0</td>\n",
       "      <td>1</td>\n",
       "      <td>0</td>\n",
       "      <td>1</td>\n",
       "    </tr>\n",
       "    <tr>\n",
       "      <th>4</th>\n",
       "      <td>5768871</td>\n",
       "      <td>47</td>\n",
       "      <td>rented</td>\n",
       "      <td>no</td>\n",
       "      <td>1</td>\n",
       "      <td>0</td>\n",
       "      <td>0</td>\n",
       "      <td>1</td>\n",
       "      <td>1</td>\n",
       "      <td>0</td>\n",
       "      <td>0</td>\n",
       "      <td>0</td>\n",
       "      <td>1</td>\n",
       "      <td>1</td>\n",
       "      <td>0</td>\n",
       "    </tr>\n",
       "  </tbody>\n",
       "</table>\n",
       "</div>"
      ],
      "text/plain": [
       "    Income  Age House_Ownership Car_Ownership  Risk_Flag  \\\n",
       "0  1303834   23          rented            no          0   \n",
       "1  7574516   40          rented            no          0   \n",
       "2  3991815   66          rented            no          0   \n",
       "3  6256451   41          rented           yes          1   \n",
       "4  5768871   47          rented            no          1   \n",
       "\n",
       "   House_Ownership_norent_noown  House_Ownership_owned  \\\n",
       "0                             0                      0   \n",
       "1                             0                      0   \n",
       "2                             0                      0   \n",
       "3                             0                      0   \n",
       "4                             0                      0   \n",
       "\n",
       "   House_Ownership_rented  Car_Ownership_no  Car_Ownership_yes  \\\n",
       "0                       1                 1                  0   \n",
       "1                       1                 1                  0   \n",
       "2                       1                 1                  0   \n",
       "3                       1                 0                  1   \n",
       "4                       1                 1                  0   \n",
       "\n",
       "   House_Ownership_norent_noown  House_Ownership_owned  \\\n",
       "0                             0                      0   \n",
       "1                             0                      0   \n",
       "2                             0                      0   \n",
       "3                             0                      0   \n",
       "4                             0                      0   \n",
       "\n",
       "   House_Ownership_rented  Car_Ownership_no  Car_Ownership_yes  \n",
       "0                       1                 1                  0  \n",
       "1                       1                 1                  0  \n",
       "2                       1                 1                  0  \n",
       "3                       1                 0                  1  \n",
       "4                       1                 1                  0  "
      ]
     },
     "execution_count": 40,
     "metadata": {},
     "output_type": "execute_result"
    }
   ],
   "source": [
    "# Creating dummy variables for categorical variables.\n",
    "Cust_Loan_df = pd.concat([Cust_Loan_df,pd.get_dummies(Cust_Loan_df[['House_Ownership','Car_Ownership']])],axis=1)\n",
    "\n",
    "# Viewing data frame.\n",
    "Cust_Loan_df.head()"
   ]
  },
  {
   "cell_type": "markdown",
   "id": "178d9afa",
   "metadata": {},
   "source": [
    "#### Visualizations:"
   ]
  },
  {
   "cell_type": "code",
   "execution_count": 41,
   "id": "5726aa82",
   "metadata": {},
   "outputs": [
    {
     "data": {
      "image/png": "[encoded data removed]",
      "text/plain": [
       "<Figure size 432x288 with 1 Axes>"
      ]
     },
     "metadata": {
      "needs_background": "light"
     },
     "output_type": "display_data"
    }
   ],
   "source": [
    "# Checking how many customers are at risk of loan defaulting.\n",
    "Cust_Loan_df.groupby('Risk_Flag')['Age'].count().plot(kind='bar', color = ['green','red'])\n",
    "plt.title('No. of customers who defaulted Loan.')\n",
    "plt.xlabel('Risk flag')\n",
    "plt.ylabel('No. of customers')\n",
    "plt.show()"
   ]
  },
  {
   "cell_type": "code",
   "execution_count": 42,
   "id": "6c93e40a",
   "metadata": {},
   "outputs": [
    {
     "data": {
      "image/png": "[encoded data removed]",
      "text/plain": [
       "<Figure size 432x288 with 1 Axes>"
      ]
     },
     "metadata": {
      "needs_background": "light"
     },
     "output_type": "display_data"
    }
   ],
   "source": [
    "# Number of customers who own car vs Loan defaulters.i\n",
    "Cust_Loan_df.groupby(['Car_Ownership','Risk_Flag'])['Age'].count().plot()\n",
    "plt.title('No. of customers who own car vs Loan defaulters.')\n",
    "plt.xlabel('Car Ownership and Risk flag')\n",
    "plt.ylabel('No. of customers')\n",
    "plt.show()"
   ]
  },
  {
   "cell_type": "code",
   "execution_count": 43,
   "id": "2f0593e4",
   "metadata": {},
   "outputs": [
    {
     "data": {
      "image/png": "[encoded data removed]",
      "text/plain": [
       "<Figure size 432x288 with 1 Axes>"
      ]
     },
     "metadata": {
      "needs_background": "light"
     },
     "output_type": "display_data"
    }
   ],
   "source": [
    "# Number of customers who own house vs Loan defaulters.\n",
    "Cust_Loan_df.groupby(['House_Ownership','Risk_Flag'])['Age'].count().unstack('Risk_Flag').plot(kind='bar', color = ['green','red'])\n",
    "plt.title('No. of customers who own house vs Loan defaulters.')\n",
    "plt.xlabel('House Ownership and Risk flag')\n",
    "plt.ylabel('No. of customers')\n",
    "plt.show()"
   ]
  },
  {
   "cell_type": "markdown",
   "id": "ffb7fd9e",
   "metadata": {},
   "source": [
    "### Step 2 - Building and evaluating the model:"
   ]
  },
  {
   "cell_type": "code",
   "execution_count": 16,
   "id": "4dba73d2",
   "metadata": {},
   "outputs": [],
   "source": [
    "from sklearn.linear_model import LogisticRegression\n",
    "from sklearn.model_selection import train_test_split"
   ]
  },
  {
   "cell_type": "code",
   "execution_count": 36,
   "id": "a1da8af1",
   "metadata": {},
   "outputs": [],
   "source": [
    "# Choosing the Predictor column.\n",
    "X = Cust_Loan_df.drop(['House_Ownership','Car_Ownership'],axis=1)               \n",
    "\n",
    "# Choosing the target column.\n",
    "y = Cust_Loan_df['Risk_Flag']              \n",
    "\n",
    "# Splitting data into training and testing sets.\n",
    "X_train, X_test, y_train, y_test = train_test_split(X, y, train_size=0.8, test_size=0.2)  "
   ]
  },
  {
   "cell_type": "markdown",
   "id": "76cbad13",
   "metadata": {},
   "source": [
    "### Step 3 - Interpreting our results:"
   ]
  },
  {
   "cell_type": "code",
   "execution_count": 44,
   "id": "650b1921",
   "metadata": {},
   "outputs": [
    {
     "data": {
      "text/plain": [
       "0.8745833333333334"
      ]
     },
     "execution_count": 44,
     "metadata": {},
     "output_type": "execute_result"
    }
   ],
   "source": [
    "# Training a logistic regression model on training data.\n",
    "regr = LogisticRegression()\n",
    "\n",
    "# Fitting model.\n",
    "regr.fit(X_train, y_train)\n",
    "\n",
    "# Calculating accuracy score.\n",
    "regr.score(X_test, y_test)"
   ]
  },
  {
   "cell_type": "markdown",
   "id": "0d8f2e93",
   "metadata": {},
   "source": [
    "### Step 4 - Conclusion (draft):"
   ]
  },
  {
   "cell_type": "markdown",
   "id": "829f1089",
   "metadata": {},
   "source": [
    "Observations:\n",
    "Firstly from visualization 1, we found the number of customers who are at risk of loan defauting (using previous records) and its low compared to customer with no risk. \n",
    "Secondly, from visualization 2 we see that Customers who do not own car are more likely to default the loan than the ones who do have their own car. \n",
    "And finally from visualization 3, we see that Customers who rents house are more likely to default the loan than the ones who do have their own house. \n",
    "\n",
    "Evaluation:\n",
    "After building logistic model, we see that the accuracy score is 87% which indicates our is good fit.\n",
    "\n",
    "We can evaluate another model and compare the results."
   ]
  },
  {
   "cell_type": "code",
   "execution_count": null,
   "id": "de21bfb8",
   "metadata": {},
   "outputs": [],
   "source": []
  }
 ],
 "metadata": {
  "kernelspec": {
   "display_name": "Python 3 (ipykernel)",
   "language": "python",
   "name": "python3"
  },
  "language_info": {
   "codemirror_mode": {
    "name": "ipython",
    "version": 3
   },
   "file_extension": ".py",
   "mimetype": "text/x-python",
   "name": "python",
   "nbconvert_exporter": "python",
   "pygments_lexer": "ipython3",
   "version": "3.8.12"
  }
 },
 "nbformat": 4,
 "nbformat_minor": 5
}
