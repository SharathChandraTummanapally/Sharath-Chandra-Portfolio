{
 "cells": [
  {
   "cell_type": "markdown",
   "id": "829b87ad",
   "metadata": {},
   "source": [
    "In this exercise, you will build a convolutional neural network (CNN) to classify handwritten digits from the MNIST dataset. The steps to build a CNN classifier are outlined in section 20.15 of the Machine Learning with Python Cookbook, but keep in mind that your code may need to be modified depending on your version of Keras."
   ]
  },
  {
   "cell_type": "code",
   "execution_count": 85,
   "id": "aa4d9efe",
   "metadata": {},
   "outputs": [],
   "source": [
    "from keras.datasets import mnist\n",
    "import numpy as np\n",
    "from keras.utils import np_utils\n",
    "from keras.models import Sequential, Input\n",
    "from keras.layers import Dense, Dropout, Flatten\n",
    "from keras.layers.convolutional import Conv2D, MaxPooling2D\n",
    "import matplotlib.pyplot as plt\n",
    "import pandas as pd\n",
    "from keras import backend as K\n",
    "from sklearn.metrics import multilabel_confusion_matrix, confusion_matrix, classification_report\n",
    "from keras_visualizer import visualizer\n",
    "from IPython.display import Image"
   ]
  },
  {
   "cell_type": "markdown",
   "id": "88602563",
   "metadata": {},
   "source": [
    "Load the MNIST data set."
   ]
  },
  {
   "cell_type": "code",
   "execution_count": 86,
   "id": "f8d6243b",
   "metadata": {},
   "outputs": [],
   "source": [
    "# Loading the data from MNIST data\n",
    "(data_train, target_train), (data_test, target_test) = mnist.load_data()"
   ]
  },
  {
   "cell_type": "code",
   "execution_count": 87,
   "id": "54d95ef1",
   "metadata": {},
   "outputs": [
    {
     "data": {
      "text/plain": [
       "array([7, 2, 1, ..., 4, 5, 6], dtype=uint8)"
      ]
     },
     "execution_count": 87,
     "metadata": {},
     "output_type": "execute_result"
    }
   ],
   "source": [
    "target_test"
   ]
  },
  {
   "cell_type": "markdown",
   "id": "fa6ef3c2",
   "metadata": {},
   "source": [
    "Display the first five images in the training data set (see section 8.1 in the Machine Learning with Python Cookbook). Compare these to the first five training labels."
   ]
  },
  {
   "cell_type": "code",
   "execution_count": 88,
   "id": "d088f780",
   "metadata": {},
   "outputs": [
    {
     "data": {
      "image/png": "[encoded data removed]",
      "text/plain": [
       "<Figure size 432x288 with 5 Axes>"
      ]
     },
     "metadata": {
      "needs_background": "light"
     },
     "output_type": "display_data"
    }
   ],
   "source": [
    "for i in range(5):\n",
    "    plt.subplot(330 + 1 + i)\n",
    "    plt.imshow(data_train[i], cmap=plt.get_cmap('BrBG'))\n",
    "    plt.title('Image #' + str(i))\n",
    "plt.subplots_adjust(hspace=1)\n",
    "plt.show()"
   ]
  },
  {
   "cell_type": "markdown",
   "id": "5ecb6af6",
   "metadata": {},
   "source": [
    "Build and train a Keras CNN classifier on the MNIST training set."
   ]
  },
  {
   "cell_type": "code",
   "execution_count": 89,
   "id": "6c974c35",
   "metadata": {},
   "outputs": [],
   "source": [
    "# Set that the color channel value will be last\n",
    "K.set_image_data_format(\"channels_last\")"
   ]
  },
  {
   "cell_type": "code",
   "execution_count": 90,
   "id": "bad709dc",
   "metadata": {},
   "outputs": [],
   "source": [
    "# Set image data shape\n",
    "channels = 1\n",
    "height = 28\n",
    "width = 28\n",
    "\n",
    "# Reshape train and test data\n",
    "data_train = data_train.reshape(data_train.shape[0], height, width, channels)\n",
    "data_test = data_test.reshape(data_test.shape[0], height, width, channels)\n",
    "\n",
    "# Rescaling the pixel intensity to be between 0 and 1\n",
    "features_train = data_train / 255\n",
    "features_test = data_test / 255\n",
    "\n",
    "# One-hot encode target\n",
    "target_train = np_utils.to_categorical(target_train)\n",
    "target_test = np_utils.to_categorical(target_test)\n",
    "num_classes = target_test.shape[1]"
   ]
  },
  {
   "cell_type": "code",
   "execution_count": 91,
   "id": "39d436fc",
   "metadata": {},
   "outputs": [
    {
     "name": "stdout",
     "output_type": "stream",
     "text": [
      "Model: \"sequential_7\"\n",
      "_________________________________________________________________\n",
      "Layer (type)                 Output Shape              Param #   \n",
      "=================================================================\n",
      "conv2d_7 (Conv2D)            (None, 24, 24, 64)        1664      \n",
      "_________________________________________________________________\n",
      "max_pooling2d_7 (MaxPooling2 (None, 12, 12, 64)        0         \n",
      "_________________________________________________________________\n",
      "dropout_14 (Dropout)         (None, 12, 12, 64)        0         \n",
      "_________________________________________________________________\n",
      "flatten_7 (Flatten)          (None, 9216)              0         \n",
      "_________________________________________________________________\n",
      "dense_14 (Dense)             (None, 128)               1179776   \n",
      "_________________________________________________________________\n",
      "dropout_15 (Dropout)         (None, 128)               0         \n",
      "_________________________________________________________________\n",
      "dense_15 (Dense)             (None, 10)                1290      \n",
      "=================================================================\n",
      "Total params: 1,182,730\n",
      "Trainable params: 1,182,730\n",
      "Non-trainable params: 0\n",
      "_________________________________________________________________\n"
     ]
    }
   ],
   "source": [
    "# Start neural network\n",
    "network = Sequential(\n",
    "    [\n",
    "        Input(shape=(28,28,1)),\n",
    "        Conv2D(64, kernel_size=(5, 5), activation=\"relu\"),\n",
    "        MaxPooling2D(pool_size=(2, 2)),\n",
    "        Dropout(0.5),\n",
    "        Flatten(),\n",
    "        Dense(128, activation='relu'),\n",
    "        Dropout(0.5),\n",
    "        Dense(classes, activation=\"softmax\"),\n",
    "    ]\n",
    ")\n",
    "\n",
    "network.summary()"
   ]
  },
  {
   "cell_type": "code",
   "execution_count": 92,
   "id": "62b699d8",
   "metadata": {},
   "outputs": [],
   "source": [
    "# Compile the network\n",
    "network.compile(loss='categorical_crossentropy', optimizer='rmsprop', metrics=['accuracy'])"
   ]
  },
  {
   "cell_type": "code",
   "execution_count": 94,
   "id": "9f023b8b",
   "metadata": {},
   "outputs": [
    {
     "data": {
      "text/plain": [
       "<tensorflow.python.keras.callbacks.History at 0x7fbd10ba8bb0>"
      ]
     },
     "execution_count": 94,
     "metadata": {},
     "output_type": "execute_result"
    }
   ],
   "source": [
    "# Fit model to training data\n",
    "network.fit(features_train, target_train, epochs=2, verbose=0, batch_size=1000, validation_data=(features_test, target_test))"
   ]
  },
  {
   "cell_type": "markdown",
   "id": "0789e503",
   "metadata": {},
   "source": [
    "Report the test accuracy of your model."
   ]
  },
  {
   "cell_type": "code",
   "execution_count": 95,
   "id": "19c2729f",
   "metadata": {},
   "outputs": [
    {
     "name": "stdout",
     "output_type": "stream",
     "text": [
      "313/313 [==============================] - 1s 3ms/step - loss: 0.0612 - accuracy: 0.9800\n"
     ]
    },
    {
     "data": {
      "text/plain": [
       "[0.06119045987725258, 0.9800000190734863]"
      ]
     },
     "execution_count": 95,
     "metadata": {},
     "output_type": "execute_result"
    }
   ],
   "source": [
    "# Getting accuracy and loss\n",
    "network.evaluate(features_test, target_test)"
   ]
  },
  {
   "cell_type": "markdown",
   "id": "177951a3",
   "metadata": {},
   "source": [
    "Display a confusion matrix on the test set classifications."
   ]
  },
  {
   "cell_type": "code",
   "execution_count": 97,
   "id": "9924be82",
   "metadata": {},
   "outputs": [
    {
     "name": "stdout",
     "output_type": "stream",
     "text": [
      "\n",
      "The Confusion Matrix is below:\n",
      "     0     1     2    3    4    5    6     7    8    9\n",
      "0  972     1     2    0    0    0    3     1    1    0\n",
      "1    0  1129     3    0    0    0    2     0    1    0\n",
      "2    3     5  1010    0    3    0    0     9    2    0\n",
      "3    0     0     3  987    0    7    0     9    3    1\n",
      "4    1     0     1    0  975    0    3     0    0    2\n",
      "5    2     0     0    2    1  882    3     1    1    0\n",
      "6    5     3     0    0    3    5  941     0    1    0\n",
      "7    1     5    11    1    0    0    0  1005    1    4\n",
      "8    8     2     4    2    7    3    4     6  931    7\n",
      "9    4     6     1    2   18    3    0     7    0  968\n"
     ]
    }
   ],
   "source": [
    "# Predicting the test values for confusion matrix\n",
    "predict = network.predict(features_test, batch_size=32)\n",
    "\n",
    "# Converting values for confusion matrix\n",
    "predict = np.argmax(predict, axis=1)\n",
    "test = np.argmax(target_test, axis=1)\n",
    "\n",
    "# Print confusion matrix of model on test data\n",
    "print('\\nThe Confusion Matrix is below:')\n",
    "print(pd.DataFrame(confusion_matrix(test, predict)))"
   ]
  },
  {
   "cell_type": "markdown",
   "id": "638aa9dc",
   "metadata": {},
   "source": [
    "Summarize your results."
   ]
  },
  {
   "cell_type": "markdown",
   "id": "659101cd",
   "metadata": {},
   "source": [
    "The accuracy of the model is around 98% on the test dataset and when it comes to the confusion matrix of the test set classifications, the majority of classifications were True Positivities. The most errors occured with the 8s and 9s."
   ]
  },
  {
   "cell_type": "code",
   "execution_count": null,
   "id": "f28b04fa",
   "metadata": {},
   "outputs": [],
   "source": []
  }
 ],
 "metadata": {
  "kernelspec": {
   "display_name": "Python 3 (ipykernel)",
   "language": "python",
   "name": "python3"
  },
  "language_info": {
   "codemirror_mode": {
    "name": "ipython",
    "version": 3
   },
   "file_extension": ".py",
   "mimetype": "text/x-python",
   "name": "python",
   "nbconvert_exporter": "python",
   "pygments_lexer": "ipython3",
   "version": "3.8.12"
  }
 },
 "nbformat": 4,
 "nbformat_minor": 5
}
