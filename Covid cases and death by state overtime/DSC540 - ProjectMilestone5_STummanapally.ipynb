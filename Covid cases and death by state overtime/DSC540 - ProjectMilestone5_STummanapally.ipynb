{
 "cells": [
  {
   "cell_type": "code",
   "execution_count": 1,
   "id": "ce9c1d2e",
   "metadata": {},
   "outputs": [],
   "source": [
    "import numpy as np \n",
    "import pandas as pd \n",
    "from bs4 import BeautifulSoup\n",
    "import bs4\n",
    "import requests"
   ]
  },
  {
   "cell_type": "markdown",
   "id": "ef8c2bc5",
   "metadata": {},
   "source": [
    "### Milestone 2"
   ]
  },
  {
   "cell_type": "code",
   "execution_count": 2,
   "id": "e14bc5d7",
   "metadata": {},
   "outputs": [
    {
     "data": {
      "text/html": [
       "<div>\n",
       "<style scoped>\n",
       "    .dataframe tbody tr th:only-of-type {\n",
       "        vertical-align: middle;\n",
       "    }\n",
       "\n",
       "    .dataframe tbody tr th {\n",
       "        vertical-align: top;\n",
       "    }\n",
       "\n",
       "    .dataframe thead th {\n",
       "        text-align: right;\n",
       "    }\n",
       "</style>\n",
       "<table border=\"1\" class=\"dataframe\">\n",
       "  <thead>\n",
       "    <tr style=\"text-align: right;\">\n",
       "      <th></th>\n",
       "      <th>submission_date</th>\n",
       "      <th>state</th>\n",
       "      <th>tot_cases</th>\n",
       "      <th>conf_cases</th>\n",
       "      <th>prob_cases</th>\n",
       "      <th>new_case</th>\n",
       "      <th>pnew_case</th>\n",
       "      <th>tot_death</th>\n",
       "      <th>conf_death</th>\n",
       "      <th>prob_death</th>\n",
       "      <th>new_death</th>\n",
       "      <th>pnew_death</th>\n",
       "      <th>created_at</th>\n",
       "      <th>consent_cases</th>\n",
       "      <th>consent_deaths</th>\n",
       "    </tr>\n",
       "  </thead>\n",
       "  <tbody>\n",
       "    <tr>\n",
       "      <th>0</th>\n",
       "      <td>02/14/2020</td>\n",
       "      <td>AL</td>\n",
       "      <td>0</td>\n",
       "      <td>0.0</td>\n",
       "      <td>0.0</td>\n",
       "      <td>0</td>\n",
       "      <td>0.0</td>\n",
       "      <td>0</td>\n",
       "      <td>0.0</td>\n",
       "      <td>0.0</td>\n",
       "      <td>0</td>\n",
       "      <td>0.0</td>\n",
       "      <td>02/16/2020 12:00:00 AM</td>\n",
       "      <td>Agree</td>\n",
       "      <td>Agree</td>\n",
       "    </tr>\n",
       "    <tr>\n",
       "      <th>1</th>\n",
       "      <td>04/01/2021</td>\n",
       "      <td>CA</td>\n",
       "      <td>3570660</td>\n",
       "      <td>3570660.0</td>\n",
       "      <td>0.0</td>\n",
       "      <td>2234</td>\n",
       "      <td>0.0</td>\n",
       "      <td>58090</td>\n",
       "      <td>58090.0</td>\n",
       "      <td>0.0</td>\n",
       "      <td>154</td>\n",
       "      <td>0.0</td>\n",
       "      <td>04/03/2021 12:00:00 AM</td>\n",
       "      <td>Agree</td>\n",
       "      <td>Agree</td>\n",
       "    </tr>\n",
       "    <tr>\n",
       "      <th>2</th>\n",
       "      <td>05/31/2021</td>\n",
       "      <td>CA</td>\n",
       "      <td>3685032</td>\n",
       "      <td>3685032.0</td>\n",
       "      <td>0.0</td>\n",
       "      <td>644</td>\n",
       "      <td>0.0</td>\n",
       "      <td>62011</td>\n",
       "      <td>62011.0</td>\n",
       "      <td>0.0</td>\n",
       "      <td>5</td>\n",
       "      <td>0.0</td>\n",
       "      <td>06/02/2021 12:00:00 AM</td>\n",
       "      <td>Agree</td>\n",
       "      <td>Agree</td>\n",
       "    </tr>\n",
       "    <tr>\n",
       "      <th>3</th>\n",
       "      <td>07/14/2020</td>\n",
       "      <td>CA</td>\n",
       "      <td>336447</td>\n",
       "      <td>336447.0</td>\n",
       "      <td>0.0</td>\n",
       "      <td>7285</td>\n",
       "      <td>0.0</td>\n",
       "      <td>7039</td>\n",
       "      <td>7039.0</td>\n",
       "      <td>0.0</td>\n",
       "      <td>25</td>\n",
       "      <td>0.0</td>\n",
       "      <td>07/16/2020 12:00:00 AM</td>\n",
       "      <td>Agree</td>\n",
       "      <td>Agree</td>\n",
       "    </tr>\n",
       "    <tr>\n",
       "      <th>4</th>\n",
       "      <td>02/06/2020</td>\n",
       "      <td>NE</td>\n",
       "      <td>0</td>\n",
       "      <td>NaN</td>\n",
       "      <td>NaN</td>\n",
       "      <td>0</td>\n",
       "      <td>NaN</td>\n",
       "      <td>0</td>\n",
       "      <td>NaN</td>\n",
       "      <td>NaN</td>\n",
       "      <td>0</td>\n",
       "      <td>NaN</td>\n",
       "      <td>03/26/2020 04:22:39 PM</td>\n",
       "      <td>Agree</td>\n",
       "      <td>Agree</td>\n",
       "    </tr>\n",
       "  </tbody>\n",
       "</table>\n",
       "</div>"
      ],
      "text/plain": [
       "  submission_date state  tot_cases  conf_cases  prob_cases  new_case  \\\n",
       "0      02/14/2020    AL          0         0.0         0.0         0   \n",
       "1      04/01/2021    CA    3570660   3570660.0         0.0      2234   \n",
       "2      05/31/2021    CA    3685032   3685032.0         0.0       644   \n",
       "3      07/14/2020    CA     336447    336447.0         0.0      7285   \n",
       "4      02/06/2020    NE          0         NaN         NaN         0   \n",
       "\n",
       "   pnew_case  tot_death  conf_death  prob_death  new_death  pnew_death  \\\n",
       "0        0.0          0         0.0         0.0          0         0.0   \n",
       "1        0.0      58090     58090.0         0.0        154         0.0   \n",
       "2        0.0      62011     62011.0         0.0          5         0.0   \n",
       "3        0.0       7039      7039.0         0.0         25         0.0   \n",
       "4        NaN          0         NaN         NaN          0         NaN   \n",
       "\n",
       "               created_at consent_cases consent_deaths  \n",
       "0  02/16/2020 12:00:00 AM         Agree          Agree  \n",
       "1  04/03/2021 12:00:00 AM         Agree          Agree  \n",
       "2  06/02/2021 12:00:00 AM         Agree          Agree  \n",
       "3  07/16/2020 12:00:00 AM         Agree          Agree  \n",
       "4  03/26/2020 04:22:39 PM         Agree          Agree  "
      ]
     },
     "execution_count": 2,
     "metadata": {},
     "output_type": "execute_result"
    }
   ],
   "source": [
    "# Loading CSV data into data frame.\n",
    "Covid_byState_df = pd.read_csv('Data/United_States_COVID-19_Cases_and_Deaths_by_State_over_Time.csv')\n",
    "\n",
    "# Checking the data.\n",
    "Covid_byState_df.head()"
   ]
  },
  {
   "cell_type": "code",
   "execution_count": 3,
   "id": "07576ab8",
   "metadata": {},
   "outputs": [],
   "source": [
    "# Step 1:\n",
    "# Identifying unwanted columns and deleting them from data frame as they are not required for our analysis.\n",
    "\n",
    "# Removing unwanted columns from dataframe.\n",
    "Covid_byState_df = Covid_byState_df.drop(['conf_cases','prob_cases','pnew_case','conf_death','prob_death','pnew_case','pnew_death','consent_cases','consent_deaths','created_at'], axis = 1)\n"
   ]
  },
  {
   "cell_type": "code",
   "execution_count": 4,
   "id": "88a86447",
   "metadata": {},
   "outputs": [
    {
     "data": {
      "text/plain": [
       "Index(['reported_date', 'state', 'tot_cases', 'new_case', 'tot_death',\n",
       "       'new_death'],\n",
       "      dtype='object')"
      ]
     },
     "execution_count": 4,
     "metadata": {},
     "output_type": "execute_result"
    }
   ],
   "source": [
    "# Step 2:\n",
    "# Modifying the column name to appropriate name.\n",
    "Covid_byState_df.rename(columns = {'submission_date':'reported_date'}, inplace = True)\n",
    "\n",
    "# Checking the columns.\n",
    "Covid_byState_df.columns"
   ]
  },
  {
   "cell_type": "code",
   "execution_count": 5,
   "id": "c55be7c9",
   "metadata": {},
   "outputs": [
    {
     "data": {
      "text/plain": [
       "reported_date    object\n",
       "state            object\n",
       "tot_cases         int64\n",
       "new_case          int64\n",
       "tot_death         int64\n",
       "new_death         int64\n",
       "dtype: object"
      ]
     },
     "execution_count": 5,
     "metadata": {},
     "output_type": "execute_result"
    }
   ],
   "source": [
    "# Step 3:\n",
    "# Converting the data frame columns to appropriate datatypes.\n",
    "\n",
    "# Checking the column data types.\n",
    "Covid_byState_df.dtypes"
   ]
  },
  {
   "cell_type": "code",
   "execution_count": 6,
   "id": "70081138",
   "metadata": {},
   "outputs": [
    {
     "data": {
      "text/plain": [
       "reported_date    datetime64[ns]\n",
       "state                    object\n",
       "tot_cases                 int64\n",
       "new_case                  int64\n",
       "tot_death                 int64\n",
       "new_death                 int64\n",
       "dtype: object"
      ]
     },
     "execution_count": 6,
     "metadata": {},
     "output_type": "execute_result"
    }
   ],
   "source": [
    "# Converting 'submission_date' column to datetime datatype.\n",
    "Covid_byState_df['reported_date'] = pd.to_datetime(Covid_byState_df['reported_date'])\n",
    "\n",
    "# Checking the column data types.\n",
    "Covid_byState_df.dtypes"
   ]
  },
  {
   "cell_type": "code",
   "execution_count": 7,
   "id": "8adb351e",
   "metadata": {},
   "outputs": [
    {
     "data": {
      "text/html": [
       "<div>\n",
       "<style scoped>\n",
       "    .dataframe tbody tr th:only-of-type {\n",
       "        vertical-align: middle;\n",
       "    }\n",
       "\n",
       "    .dataframe tbody tr th {\n",
       "        vertical-align: top;\n",
       "    }\n",
       "\n",
       "    .dataframe thead th {\n",
       "        text-align: right;\n",
       "    }\n",
       "</style>\n",
       "<table border=\"1\" class=\"dataframe\">\n",
       "  <thead>\n",
       "    <tr style=\"text-align: right;\">\n",
       "      <th></th>\n",
       "      <th>reported_date</th>\n",
       "      <th>state</th>\n",
       "      <th>tot_cases</th>\n",
       "      <th>new_case</th>\n",
       "      <th>tot_death</th>\n",
       "      <th>new_death</th>\n",
       "    </tr>\n",
       "  </thead>\n",
       "  <tbody>\n",
       "  </tbody>\n",
       "</table>\n",
       "</div>"
      ],
      "text/plain": [
       "Empty DataFrame\n",
       "Columns: [reported_date, state, tot_cases, new_case, tot_death, new_death]\n",
       "Index: []"
      ]
     },
     "execution_count": 7,
     "metadata": {},
     "output_type": "execute_result"
    }
   ],
   "source": [
    "# Step 4:\n",
    "# Data Cleaning: Identifying and deleting the rows where total cases is 0.\n",
    "Covid_byState_df.drop(Covid_byState_df[Covid_byState_df['tot_cases'] == 0].index, inplace = True)\n",
    "\n",
    "# Checking the data.\n",
    "Covid_byState_df[Covid_byState_df['tot_cases'] == 0]\n"
   ]
  },
  {
   "cell_type": "code",
   "execution_count": 8,
   "id": "ff045a2f",
   "metadata": {},
   "outputs": [
    {
     "data": {
      "text/html": [
       "<div>\n",
       "<style scoped>\n",
       "    .dataframe tbody tr th:only-of-type {\n",
       "        vertical-align: middle;\n",
       "    }\n",
       "\n",
       "    .dataframe tbody tr th {\n",
       "        vertical-align: top;\n",
       "    }\n",
       "\n",
       "    .dataframe thead th {\n",
       "        text-align: right;\n",
       "    }\n",
       "</style>\n",
       "<table border=\"1\" class=\"dataframe\">\n",
       "  <thead>\n",
       "    <tr style=\"text-align: right;\">\n",
       "      <th></th>\n",
       "      <th>reported_date</th>\n",
       "      <th>state</th>\n",
       "      <th>tot_cases</th>\n",
       "      <th>new_case</th>\n",
       "      <th>tot_death</th>\n",
       "      <th>new_death</th>\n",
       "    </tr>\n",
       "  </thead>\n",
       "  <tbody>\n",
       "    <tr>\n",
       "      <th>1</th>\n",
       "      <td>2021-04-01</td>\n",
       "      <td>CA</td>\n",
       "      <td>3570660</td>\n",
       "      <td>2234</td>\n",
       "      <td>58090</td>\n",
       "      <td>154</td>\n",
       "    </tr>\n",
       "    <tr>\n",
       "      <th>2</th>\n",
       "      <td>2021-05-31</td>\n",
       "      <td>CA</td>\n",
       "      <td>3685032</td>\n",
       "      <td>644</td>\n",
       "      <td>62011</td>\n",
       "      <td>5</td>\n",
       "    </tr>\n",
       "    <tr>\n",
       "      <th>3</th>\n",
       "      <td>2020-07-14</td>\n",
       "      <td>CA</td>\n",
       "      <td>336447</td>\n",
       "      <td>7285</td>\n",
       "      <td>7039</td>\n",
       "      <td>25</td>\n",
       "    </tr>\n",
       "    <tr>\n",
       "      <th>5</th>\n",
       "      <td>2020-07-30</td>\n",
       "      <td>ME</td>\n",
       "      <td>3910</td>\n",
       "      <td>22</td>\n",
       "      <td>123</td>\n",
       "      <td>2</td>\n",
       "    </tr>\n",
       "    <tr>\n",
       "      <th>6</th>\n",
       "      <td>2020-06-10</td>\n",
       "      <td>VT</td>\n",
       "      <td>1009</td>\n",
       "      <td>10</td>\n",
       "      <td>54</td>\n",
       "      <td>0</td>\n",
       "    </tr>\n",
       "    <tr>\n",
       "      <th>...</th>\n",
       "      <td>...</td>\n",
       "      <td>...</td>\n",
       "      <td>...</td>\n",
       "      <td>...</td>\n",
       "      <td>...</td>\n",
       "      <td>...</td>\n",
       "    </tr>\n",
       "    <tr>\n",
       "      <th>43854</th>\n",
       "      <td>2020-10-12</td>\n",
       "      <td>DC</td>\n",
       "      <td>16022</td>\n",
       "      <td>38</td>\n",
       "      <td>637</td>\n",
       "      <td>0</td>\n",
       "    </tr>\n",
       "    <tr>\n",
       "      <th>43855</th>\n",
       "      <td>2020-12-11</td>\n",
       "      <td>AZ</td>\n",
       "      <td>394804</td>\n",
       "      <td>6986</td>\n",
       "      <td>7245</td>\n",
       "      <td>91</td>\n",
       "    </tr>\n",
       "    <tr>\n",
       "      <th>43857</th>\n",
       "      <td>2020-12-15</td>\n",
       "      <td>DC</td>\n",
       "      <td>25339</td>\n",
       "      <td>301</td>\n",
       "      <td>720</td>\n",
       "      <td>4</td>\n",
       "    </tr>\n",
       "    <tr>\n",
       "      <th>43858</th>\n",
       "      <td>2021-07-06</td>\n",
       "      <td>OR</td>\n",
       "      <td>209494</td>\n",
       "      <td>117</td>\n",
       "      <td>2782</td>\n",
       "      <td>1</td>\n",
       "    </tr>\n",
       "    <tr>\n",
       "      <th>43859</th>\n",
       "      <td>2021-11-22</td>\n",
       "      <td>AZ</td>\n",
       "      <td>1245127</td>\n",
       "      <td>3249</td>\n",
       "      <td>21942</td>\n",
       "      <td>2</td>\n",
       "    </tr>\n",
       "  </tbody>\n",
       "</table>\n",
       "<p>35208 rows × 6 columns</p>\n",
       "</div>"
      ],
      "text/plain": [
       "      reported_date state  tot_cases  new_case  tot_death  new_death\n",
       "1        2021-04-01    CA    3570660      2234      58090        154\n",
       "2        2021-05-31    CA    3685032       644      62011          5\n",
       "3        2020-07-14    CA     336447      7285       7039         25\n",
       "5        2020-07-30    ME       3910        22        123          2\n",
       "6        2020-06-10    VT       1009        10         54          0\n",
       "...             ...   ...        ...       ...        ...        ...\n",
       "43854    2020-10-12    DC      16022        38        637          0\n",
       "43855    2020-12-11    AZ     394804      6986       7245         91\n",
       "43857    2020-12-15    DC      25339       301        720          4\n",
       "43858    2021-07-06    OR     209494       117       2782          1\n",
       "43859    2021-11-22    AZ    1245127      3249      21942          2\n",
       "\n",
       "[35208 rows x 6 columns]"
      ]
     },
     "execution_count": 8,
     "metadata": {},
     "output_type": "execute_result"
    }
   ],
   "source": [
    "# Step 5:\n",
    "# Identifying and removing the rows which are not in these fifty states.\n",
    "states = [\"AL\", \"AK\", \"AZ\", \"AR\", \"CA\", \"CO\", \"CT\", \"DC\", \"DE\", \"FL\", \"GA\", \n",
    "          \"HI\", \"ID\", \"IL\", \"IN\", \"IA\", \"KS\", \"KY\", \"LA\", \"ME\", \"MD\", \n",
    "          \"MA\", \"MI\", \"MN\", \"MS\", \"MO\", \"MT\", \"NE\", \"NV\", \"NH\", \"NJ\", \n",
    "          \"NM\", \"NY\", \"NC\", \"ND\", \"OH\", \"OK\", \"OR\", \"PA\", \"RI\", \"SC\", \n",
    "          \"SD\", \"TN\", \"TX\", \"UT\", \"VT\", \"VA\", \"WA\", \"WV\", \"WI\", \"WY\"]\n",
    "\n",
    "Covid_byState_df.drop(Covid_byState_df[~Covid_byState_df['state'].isin(states)].index, inplace = True)\n",
    "\n",
    "Covid_byState_df"
   ]
  },
  {
   "cell_type": "markdown",
   "id": "327006d6",
   "metadata": {},
   "source": [
    "### Milestone 3"
   ]
  },
  {
   "cell_type": "code",
   "execution_count": 9,
   "id": "4028876a",
   "metadata": {},
   "outputs": [
    {
     "data": {
      "text/html": [
       "<div>\n",
       "<style scoped>\n",
       "    .dataframe tbody tr th:only-of-type {\n",
       "        vertical-align: middle;\n",
       "    }\n",
       "\n",
       "    .dataframe tbody tr th {\n",
       "        vertical-align: top;\n",
       "    }\n",
       "\n",
       "    .dataframe thead th {\n",
       "        text-align: right;\n",
       "    }\n",
       "</style>\n",
       "<table border=\"1\" class=\"dataframe\">\n",
       "  <thead>\n",
       "    <tr style=\"text-align: right;\">\n",
       "      <th></th>\n",
       "      <th>State/Territory</th>\n",
       "      <th>Vaccinated</th>\n",
       "      <th>% of pop.</th>\n",
       "    </tr>\n",
       "  </thead>\n",
       "  <tbody>\n",
       "    <tr>\n",
       "      <th>0</th>\n",
       "      <td>Alabama</td>\n",
       "      <td>2,489,954</td>\n",
       "      <td>58.1%</td>\n",
       "    </tr>\n",
       "    <tr>\n",
       "      <th>1</th>\n",
       "      <td>Alaska</td>\n",
       "      <td>473,411</td>\n",
       "      <td>64.7%</td>\n",
       "    </tr>\n",
       "    <tr>\n",
       "      <th>2</th>\n",
       "      <td>Arizona</td>\n",
       "      <td>4,858,243</td>\n",
       "      <td>66.7%</td>\n",
       "    </tr>\n",
       "    <tr>\n",
       "      <th>3</th>\n",
       "      <td>Arkansas</td>\n",
       "      <td>1,881,140</td>\n",
       "      <td>62.3%</td>\n",
       "    </tr>\n",
       "    <tr>\n",
       "      <th>4</th>\n",
       "      <td>California</td>\n",
       "      <td>32,416,845</td>\n",
       "      <td>82.0%</td>\n",
       "    </tr>\n",
       "  </tbody>\n",
       "</table>\n",
       "</div>"
      ],
      "text/plain": [
       "  State/Territory  Vaccinated % of pop.\n",
       "0         Alabama   2,489,954     58.1%\n",
       "1          Alaska     473,411     64.7%\n",
       "2         Arizona   4,858,243     66.7%\n",
       "3        Arkansas   1,881,140     62.3%\n",
       "4      California  32,416,845     82.0%"
      ]
     },
     "execution_count": 9,
     "metadata": {},
     "output_type": "execute_result"
    }
   ],
   "source": [
    "# Opening the web page to view the HTML source and to understand its structure.\n",
    "web_page = open(\"Data/COVID-19 vaccination in the United States - Wikipedia.html\",\"r\")\n",
    "\n",
    "# Reading the page using bs4.\n",
    "soup = BeautifulSoup(web_page)\n",
    "web_page.close()\n",
    "\n",
    "# Finding the table needed for the exercise.\n",
    "data_tbl = soup.find('table', {'class': 'wikitable sortable static-row-numbers jquery-tablesorter'})\n",
    "\n",
    "# Getting the headers of table.\n",
    "headers = [th.getText().strip() for th in data_tbl.findAll('thead')[0].findAll('th')]\n",
    "\n",
    "# Getting the rows of table and adding to dataframe.\n",
    "rows = data_tbl.findAll('tbody')[0].findAll('tr')[0:]\n",
    "d_rows = [[td.get_text().strip() for td in tr.findAll('td')] for tr in rows]\n",
    "Covid_Vaccinated_by_state_df = pd.DataFrame(d_rows, columns=headers)\n",
    "\n",
    "# Checking the dataframe.\n",
    "Covid_Vaccinated_by_state_df.head()"
   ]
  },
  {
   "cell_type": "code",
   "execution_count": 10,
   "id": "572830c7",
   "metadata": {},
   "outputs": [
    {
     "data": {
      "text/plain": [
       "Index(['state', 'Vaccinated', 'pop %'], dtype='object')"
      ]
     },
     "execution_count": 10,
     "metadata": {},
     "output_type": "execute_result"
    }
   ],
   "source": [
    "# Step 1:\n",
    "# Modifying the column name to appropriate name.\n",
    "\n",
    "Covid_Vaccinated_by_state_df.rename(columns = {'State/Territory':'state','% of pop.':'pop %'}, inplace = True)\n",
    "\n",
    "# Checking the columns.\n",
    "Covid_Vaccinated_by_state_df.columns"
   ]
  },
  {
   "cell_type": "code",
   "execution_count": 11,
   "id": "2a942815",
   "metadata": {},
   "outputs": [
    {
     "data": {
      "text/html": [
       "<div>\n",
       "<style scoped>\n",
       "    .dataframe tbody tr th:only-of-type {\n",
       "        vertical-align: middle;\n",
       "    }\n",
       "\n",
       "    .dataframe tbody tr th {\n",
       "        vertical-align: top;\n",
       "    }\n",
       "\n",
       "    .dataframe thead th {\n",
       "        text-align: right;\n",
       "    }\n",
       "</style>\n",
       "<table border=\"1\" class=\"dataframe\">\n",
       "  <thead>\n",
       "    <tr style=\"text-align: right;\">\n",
       "      <th></th>\n",
       "      <th>state name</th>\n",
       "      <th>Vaccinated</th>\n",
       "      <th>pop %</th>\n",
       "      <th>state</th>\n",
       "    </tr>\n",
       "  </thead>\n",
       "  <tbody>\n",
       "    <tr>\n",
       "      <th>0</th>\n",
       "      <td>Alabama</td>\n",
       "      <td>2,489,954</td>\n",
       "      <td>58.1%</td>\n",
       "      <td>AL</td>\n",
       "    </tr>\n",
       "    <tr>\n",
       "      <th>1</th>\n",
       "      <td>Alaska</td>\n",
       "      <td>473,411</td>\n",
       "      <td>64.7%</td>\n",
       "      <td>AK</td>\n",
       "    </tr>\n",
       "    <tr>\n",
       "      <th>2</th>\n",
       "      <td>Arizona</td>\n",
       "      <td>4,858,243</td>\n",
       "      <td>66.7%</td>\n",
       "      <td>AZ</td>\n",
       "    </tr>\n",
       "    <tr>\n",
       "      <th>3</th>\n",
       "      <td>Arkansas</td>\n",
       "      <td>1,881,140</td>\n",
       "      <td>62.3%</td>\n",
       "      <td>AR</td>\n",
       "    </tr>\n",
       "    <tr>\n",
       "      <th>4</th>\n",
       "      <td>California</td>\n",
       "      <td>32,416,845</td>\n",
       "      <td>82.0%</td>\n",
       "      <td>CA</td>\n",
       "    </tr>\n",
       "  </tbody>\n",
       "</table>\n",
       "</div>"
      ],
      "text/plain": [
       "   state name  Vaccinated  pop % state\n",
       "0     Alabama   2,489,954  58.1%    AL\n",
       "1      Alaska     473,411  64.7%    AK\n",
       "2     Arizona   4,858,243  66.7%    AZ\n",
       "3    Arkansas   1,881,140  62.3%    AR\n",
       "4  California  32,416,845  82.0%    CA"
      ]
     },
     "execution_count": 11,
     "metadata": {},
     "output_type": "execute_result"
    }
   ],
   "source": [
    "# Step 2:\n",
    "# Adding new state column. We need it to join with flat file for further analysis.\n",
    "\n",
    "# Loading states data to dataframe.\n",
    "states_df = pd.read_csv('Data/States.csv')\n",
    "\n",
    "# Removing unwanted columns from states dataframe.\n",
    "states_df = states_df.drop(['Abbrev'], axis = 1)\n",
    "states_df.columns = states_df.columns.str.lower()\n",
    "\n",
    "# Merging two dataframes on state name to get state code.\n",
    "Covid_Vaccinated_by_state_df = pd.merge(Covid_Vaccinated_by_state_df, states_df, on = 'state')\n",
    "\n",
    "# Modifying the column name to appropriate name.\n",
    "Covid_Vaccinated_by_state_df.rename(columns = {'state':'state name','code':'state'}, inplace = True)\n",
    "\n",
    "# Checking the dataframe.\n",
    "Covid_Vaccinated_by_state_df.head()"
   ]
  },
  {
   "cell_type": "code",
   "execution_count": 12,
   "id": "618bb742",
   "metadata": {},
   "outputs": [
    {
     "data": {
      "text/html": [
       "<div>\n",
       "<style scoped>\n",
       "    .dataframe tbody tr th:only-of-type {\n",
       "        vertical-align: middle;\n",
       "    }\n",
       "\n",
       "    .dataframe tbody tr th {\n",
       "        vertical-align: top;\n",
       "    }\n",
       "\n",
       "    .dataframe thead th {\n",
       "        text-align: right;\n",
       "    }\n",
       "</style>\n",
       "<table border=\"1\" class=\"dataframe\">\n",
       "  <thead>\n",
       "    <tr style=\"text-align: right;\">\n",
       "      <th></th>\n",
       "      <th>state</th>\n",
       "      <th>state name</th>\n",
       "      <th>Vaccinated</th>\n",
       "      <th>pop %</th>\n",
       "    </tr>\n",
       "  </thead>\n",
       "  <tbody>\n",
       "    <tr>\n",
       "      <th>0</th>\n",
       "      <td>AL</td>\n",
       "      <td>Alabama</td>\n",
       "      <td>2,489,954</td>\n",
       "      <td>58.1%</td>\n",
       "    </tr>\n",
       "    <tr>\n",
       "      <th>1</th>\n",
       "      <td>AK</td>\n",
       "      <td>Alaska</td>\n",
       "      <td>473,411</td>\n",
       "      <td>64.7%</td>\n",
       "    </tr>\n",
       "    <tr>\n",
       "      <th>2</th>\n",
       "      <td>AZ</td>\n",
       "      <td>Arizona</td>\n",
       "      <td>4,858,243</td>\n",
       "      <td>66.7%</td>\n",
       "    </tr>\n",
       "    <tr>\n",
       "      <th>3</th>\n",
       "      <td>AR</td>\n",
       "      <td>Arkansas</td>\n",
       "      <td>1,881,140</td>\n",
       "      <td>62.3%</td>\n",
       "    </tr>\n",
       "    <tr>\n",
       "      <th>4</th>\n",
       "      <td>CA</td>\n",
       "      <td>California</td>\n",
       "      <td>32,416,845</td>\n",
       "      <td>82.0%</td>\n",
       "    </tr>\n",
       "  </tbody>\n",
       "</table>\n",
       "</div>"
      ],
      "text/plain": [
       "  state  state name  Vaccinated  pop %\n",
       "0    AL     Alabama   2,489,954  58.1%\n",
       "1    AK      Alaska     473,411  64.7%\n",
       "2    AZ     Arizona   4,858,243  66.7%\n",
       "3    AR    Arkansas   1,881,140  62.3%\n",
       "4    CA  California  32,416,845  82.0%"
      ]
     },
     "execution_count": 12,
     "metadata": {},
     "output_type": "execute_result"
    }
   ],
   "source": [
    "# Step 3:\n",
    "# Reordering the columns in dataframe.\n",
    "\n",
    "Covid_Vaccinated_by_state_df = Covid_Vaccinated_by_state_df[['state','state name','Vaccinated','pop %']]\n",
    "\n",
    "# Checking dataframe.\n",
    "Covid_Vaccinated_by_state_df.head()"
   ]
  },
  {
   "cell_type": "code",
   "execution_count": 13,
   "id": "1776edce",
   "metadata": {},
   "outputs": [
    {
     "data": {
      "text/plain": [
       "state         0\n",
       "state name    0\n",
       "Vaccinated    0\n",
       "pop %         0\n",
       "dtype: int64"
      ]
     },
     "execution_count": 13,
     "metadata": {},
     "output_type": "execute_result"
    }
   ],
   "source": [
    "# Step 4:\n",
    "# Identifying outliers/bad data: Checking if there are any null values.\n",
    "\n",
    "Covid_Vaccinated_by_state_df.isnull().sum()"
   ]
  },
  {
   "cell_type": "code",
   "execution_count": 14,
   "id": "e76cc9f1",
   "metadata": {},
   "outputs": [
    {
     "data": {
      "text/plain": [
       "0"
      ]
     },
     "execution_count": 14,
     "metadata": {},
     "output_type": "execute_result"
    }
   ],
   "source": [
    "# Step 5:\n",
    "# Finding duplicates: Checking if there are any duplicate values in state code.\n",
    "\n",
    "Covid_Vaccinated_by_state_df['state'].duplicated().sum()"
   ]
  },
  {
   "cell_type": "markdown",
   "id": "c7162828",
   "metadata": {},
   "source": [
    "### Milestone 4"
   ]
  },
  {
   "cell_type": "code",
   "execution_count": 15,
   "id": "eee8311a",
   "metadata": {},
   "outputs": [
    {
     "data": {
      "text/html": [
       "<div>\n",
       "<style scoped>\n",
       "    .dataframe tbody tr th:only-of-type {\n",
       "        vertical-align: middle;\n",
       "    }\n",
       "\n",
       "    .dataframe tbody tr th {\n",
       "        vertical-align: top;\n",
       "    }\n",
       "\n",
       "    .dataframe thead th {\n",
       "        text-align: right;\n",
       "    }\n",
       "</style>\n",
       "<table border=\"1\" class=\"dataframe\">\n",
       "  <thead>\n",
       "    <tr style=\"text-align: right;\">\n",
       "      <th></th>\n",
       "      <th>date</th>\n",
       "      <th>mmwr_week</th>\n",
       "      <th>location</th>\n",
       "      <th>administered_daily</th>\n",
       "      <th>administered_cumulative</th>\n",
       "      <th>administered_7_day_rolling</th>\n",
       "      <th>admin_dose_1_daily</th>\n",
       "      <th>admin_dose_1_cumulative</th>\n",
       "      <th>admin_dose_1_day_rolling</th>\n",
       "      <th>date_type</th>\n",
       "      <th>administered_daily_change</th>\n",
       "      <th>administered_daily_change_1</th>\n",
       "      <th>series_complete_daily</th>\n",
       "      <th>series_complete_cumulative</th>\n",
       "      <th>series_complete_day_rolling</th>\n",
       "      <th>booster_daily</th>\n",
       "      <th>booster_cumulative</th>\n",
       "      <th>booster_7_day_rolling_average</th>\n",
       "    </tr>\n",
       "  </thead>\n",
       "  <tbody>\n",
       "    <tr>\n",
       "      <th>0</th>\n",
       "      <td>2022-03-05T00:00:00.000</td>\n",
       "      <td>9</td>\n",
       "      <td>MA</td>\n",
       "      <td>0</td>\n",
       "      <td>14312150</td>\n",
       "      <td>4466</td>\n",
       "      <td>0</td>\n",
       "      <td>6612384</td>\n",
       "      <td>1417</td>\n",
       "      <td>Admin</td>\n",
       "      <td>0</td>\n",
       "      <td>4466</td>\n",
       "      <td>0</td>\n",
       "      <td>5359606</td>\n",
       "      <td>982</td>\n",
       "      <td>0</td>\n",
       "      <td>2662958</td>\n",
       "      <td>1953</td>\n",
       "    </tr>\n",
       "    <tr>\n",
       "      <th>1</th>\n",
       "      <td>2022-03-05T00:00:00.000</td>\n",
       "      <td>9</td>\n",
       "      <td>NM</td>\n",
       "      <td>0</td>\n",
       "      <td>3780431</td>\n",
       "      <td>1162</td>\n",
       "      <td>0</td>\n",
       "      <td>1734441</td>\n",
       "      <td>294</td>\n",
       "      <td>Admin</td>\n",
       "      <td>0</td>\n",
       "      <td>1162</td>\n",
       "      <td>0</td>\n",
       "      <td>1463705</td>\n",
       "      <td>283</td>\n",
       "      <td>0</td>\n",
       "      <td>704403</td>\n",
       "      <td>451</td>\n",
       "    </tr>\n",
       "    <tr>\n",
       "      <th>2</th>\n",
       "      <td>2022-03-05T00:00:00.000</td>\n",
       "      <td>9</td>\n",
       "      <td>UT</td>\n",
       "      <td>0</td>\n",
       "      <td>5070331</td>\n",
       "      <td>17</td>\n",
       "      <td>0</td>\n",
       "      <td>2299431</td>\n",
       "      <td>6</td>\n",
       "      <td>Admin</td>\n",
       "      <td>0</td>\n",
       "      <td>18</td>\n",
       "      <td>0</td>\n",
       "      <td>2030274</td>\n",
       "      <td>7</td>\n",
       "      <td>0</td>\n",
       "      <td>870066</td>\n",
       "      <td>13</td>\n",
       "    </tr>\n",
       "    <tr>\n",
       "      <th>3</th>\n",
       "      <td>2022-03-05T00:00:00.000</td>\n",
       "      <td>9</td>\n",
       "      <td>ID</td>\n",
       "      <td>0</td>\n",
       "      <td>2372372</td>\n",
       "      <td>587</td>\n",
       "      <td>0</td>\n",
       "      <td>1067712</td>\n",
       "      <td>142</td>\n",
       "      <td>Admin</td>\n",
       "      <td>0</td>\n",
       "      <td>588</td>\n",
       "      <td>0</td>\n",
       "      <td>951089</td>\n",
       "      <td>206</td>\n",
       "      <td>0</td>\n",
       "      <td>389529</td>\n",
       "      <td>225</td>\n",
       "    </tr>\n",
       "    <tr>\n",
       "      <th>4</th>\n",
       "      <td>2022-03-05T00:00:00.000</td>\n",
       "      <td>9</td>\n",
       "      <td>PR</td>\n",
       "      <td>0</td>\n",
       "      <td>6971581</td>\n",
       "      <td>1418</td>\n",
       "      <td>0</td>\n",
       "      <td>3035910</td>\n",
       "      <td>244</td>\n",
       "      <td>Admin</td>\n",
       "      <td>0</td>\n",
       "      <td>1418</td>\n",
       "      <td>0</td>\n",
       "      <td>2608024</td>\n",
       "      <td>220</td>\n",
       "      <td>0</td>\n",
       "      <td>1392310</td>\n",
       "      <td>920</td>\n",
       "    </tr>\n",
       "  </tbody>\n",
       "</table>\n",
       "</div>"
      ],
      "text/plain": [
       "                      date mmwr_week location administered_daily  \\\n",
       "0  2022-03-05T00:00:00.000         9       MA                  0   \n",
       "1  2022-03-05T00:00:00.000         9       NM                  0   \n",
       "2  2022-03-05T00:00:00.000         9       UT                  0   \n",
       "3  2022-03-05T00:00:00.000         9       ID                  0   \n",
       "4  2022-03-05T00:00:00.000         9       PR                  0   \n",
       "\n",
       "  administered_cumulative administered_7_day_rolling admin_dose_1_daily  \\\n",
       "0                14312150                       4466                  0   \n",
       "1                 3780431                       1162                  0   \n",
       "2                 5070331                         17                  0   \n",
       "3                 2372372                        587                  0   \n",
       "4                 6971581                       1418                  0   \n",
       "\n",
       "  admin_dose_1_cumulative admin_dose_1_day_rolling date_type  \\\n",
       "0                 6612384                     1417     Admin   \n",
       "1                 1734441                      294     Admin   \n",
       "2                 2299431                        6     Admin   \n",
       "3                 1067712                      142     Admin   \n",
       "4                 3035910                      244     Admin   \n",
       "\n",
       "  administered_daily_change administered_daily_change_1 series_complete_daily  \\\n",
       "0                         0                        4466                     0   \n",
       "1                         0                        1162                     0   \n",
       "2                         0                          18                     0   \n",
       "3                         0                         588                     0   \n",
       "4                         0                        1418                     0   \n",
       "\n",
       "  series_complete_cumulative series_complete_day_rolling booster_daily  \\\n",
       "0                    5359606                         982             0   \n",
       "1                    1463705                         283             0   \n",
       "2                    2030274                           7             0   \n",
       "3                     951089                         206             0   \n",
       "4                    2608024                         220             0   \n",
       "\n",
       "  booster_cumulative booster_7_day_rolling_average  \n",
       "0            2662958                          1953  \n",
       "1             704403                           451  \n",
       "2             870066                            13  \n",
       "3             389529                           225  \n",
       "4            1392310                           920  "
      ]
     },
     "execution_count": 15,
     "metadata": {},
     "output_type": "execute_result"
    }
   ],
   "source": [
    "# Setting the api url.\n",
    "url = 'https://data.cdc.gov/resource/rh2h-3yt2.json?$limit=60000'\n",
    "\n",
    "# Get request. \n",
    "resp = requests.get(url)\n",
    "\n",
    "# Extracting data using json method.\n",
    "data = resp.json()\n",
    "\n",
    "# Loading json data into data frame.\n",
    "Covid_Vaccination_df = pd.DataFrame(data)\n",
    "\n",
    "# Checking the data.\n",
    "Covid_Vaccination_df.head()"
   ]
  },
  {
   "cell_type": "code",
   "execution_count": 16,
   "id": "84ebcce4",
   "metadata": {},
   "outputs": [
    {
     "data": {
      "text/html": [
       "<div>\n",
       "<style scoped>\n",
       "    .dataframe tbody tr th:only-of-type {\n",
       "        vertical-align: middle;\n",
       "    }\n",
       "\n",
       "    .dataframe tbody tr th {\n",
       "        vertical-align: top;\n",
       "    }\n",
       "\n",
       "    .dataframe thead th {\n",
       "        text-align: right;\n",
       "    }\n",
       "</style>\n",
       "<table border=\"1\" class=\"dataframe\">\n",
       "  <thead>\n",
       "    <tr style=\"text-align: right;\">\n",
       "      <th></th>\n",
       "      <th>date</th>\n",
       "      <th>location</th>\n",
       "      <th>administered_daily</th>\n",
       "      <th>administered_cumulative</th>\n",
       "      <th>series_complete_daily</th>\n",
       "      <th>booster_daily</th>\n",
       "    </tr>\n",
       "  </thead>\n",
       "  <tbody>\n",
       "    <tr>\n",
       "      <th>0</th>\n",
       "      <td>2022-03-05T00:00:00.000</td>\n",
       "      <td>MA</td>\n",
       "      <td>0</td>\n",
       "      <td>14312150</td>\n",
       "      <td>0</td>\n",
       "      <td>0</td>\n",
       "    </tr>\n",
       "    <tr>\n",
       "      <th>1</th>\n",
       "      <td>2022-03-05T00:00:00.000</td>\n",
       "      <td>NM</td>\n",
       "      <td>0</td>\n",
       "      <td>3780431</td>\n",
       "      <td>0</td>\n",
       "      <td>0</td>\n",
       "    </tr>\n",
       "    <tr>\n",
       "      <th>2</th>\n",
       "      <td>2022-03-05T00:00:00.000</td>\n",
       "      <td>UT</td>\n",
       "      <td>0</td>\n",
       "      <td>5070331</td>\n",
       "      <td>0</td>\n",
       "      <td>0</td>\n",
       "    </tr>\n",
       "    <tr>\n",
       "      <th>3</th>\n",
       "      <td>2022-03-05T00:00:00.000</td>\n",
       "      <td>ID</td>\n",
       "      <td>0</td>\n",
       "      <td>2372372</td>\n",
       "      <td>0</td>\n",
       "      <td>0</td>\n",
       "    </tr>\n",
       "    <tr>\n",
       "      <th>4</th>\n",
       "      <td>2022-03-05T00:00:00.000</td>\n",
       "      <td>PR</td>\n",
       "      <td>0</td>\n",
       "      <td>6971581</td>\n",
       "      <td>0</td>\n",
       "      <td>0</td>\n",
       "    </tr>\n",
       "  </tbody>\n",
       "</table>\n",
       "</div>"
      ],
      "text/plain": [
       "                      date location administered_daily  \\\n",
       "0  2022-03-05T00:00:00.000       MA                  0   \n",
       "1  2022-03-05T00:00:00.000       NM                  0   \n",
       "2  2022-03-05T00:00:00.000       UT                  0   \n",
       "3  2022-03-05T00:00:00.000       ID                  0   \n",
       "4  2022-03-05T00:00:00.000       PR                  0   \n",
       "\n",
       "  administered_cumulative series_complete_daily booster_daily  \n",
       "0                14312150                     0             0  \n",
       "1                 3780431                     0             0  \n",
       "2                 5070331                     0             0  \n",
       "3                 2372372                     0             0  \n",
       "4                 6971581                     0             0  "
      ]
     },
     "execution_count": 16,
     "metadata": {},
     "output_type": "execute_result"
    }
   ],
   "source": [
    "# Step 1:\n",
    "# Identifying unwanted columns and deleting them from data frame as they are not required for our analysis.\n",
    "\n",
    "# Removing unwanted columns from dataframe.\n",
    "Covid_Vaccination_df = Covid_Vaccination_df.drop(['mmwr_week','administered_7_day_rolling',\n",
    "                                          'admin_dose_1_daily','admin_dose_1_cumulative','admin_dose_1_day_rolling',\n",
    "                                          'date_type','administered_daily_change','administered_daily_change_1',\n",
    "                                          'series_complete_cumulative','series_complete_day_rolling',\n",
    "                                          'booster_cumulative','booster_7_day_rolling_average'], axis = 1)\n",
    "\n",
    "# Checking the data.\n",
    "Covid_Vaccination_df.head()"
   ]
  },
  {
   "cell_type": "code",
   "execution_count": 17,
   "id": "93918400",
   "metadata": {},
   "outputs": [
    {
     "data": {
      "text/plain": [
       "Index(['reported_date', 'state', 'vaccinated_daily', 'vaccinated_cumulative',\n",
       "       'fullyvaccinated_daily', 'booster_daily'],\n",
       "      dtype='object')"
      ]
     },
     "execution_count": 17,
     "metadata": {},
     "output_type": "execute_result"
    }
   ],
   "source": [
    "# Step 2:\n",
    "# Modifying the column name to appropriate name.\n",
    "Covid_Vaccination_df.rename(columns = {'date':'reported_date','location':'state','administered_daily':'vaccinated_daily',\n",
    "                                   'series_complete_daily':'fullyvaccinated_daily','administered_cumulative':'vaccinated_cumulative'}, inplace = True)\n",
    "\n",
    "# Checking the columns.\n",
    "Covid_Vaccination_df.columns"
   ]
  },
  {
   "cell_type": "code",
   "execution_count": 18,
   "id": "f5188919",
   "metadata": {},
   "outputs": [
    {
     "data": {
      "text/plain": [
       "reported_date            object\n",
       "state                    object\n",
       "vaccinated_daily         object\n",
       "vaccinated_cumulative    object\n",
       "fullyvaccinated_daily    object\n",
       "booster_daily            object\n",
       "dtype: object"
      ]
     },
     "execution_count": 18,
     "metadata": {},
     "output_type": "execute_result"
    }
   ],
   "source": [
    "# Step 3:\n",
    "# Converting the data frame columns to appropriate datatypes.\n",
    "\n",
    "# Checking the column data types.\n",
    "Covid_Vaccination_df.dtypes"
   ]
  },
  {
   "cell_type": "code",
   "execution_count": 19,
   "id": "dac84026",
   "metadata": {},
   "outputs": [
    {
     "data": {
      "text/plain": [
       "reported_date            datetime64[ns]\n",
       "state                            object\n",
       "vaccinated_daily                  int64\n",
       "vaccinated_cumulative             int64\n",
       "fullyvaccinated_daily             int64\n",
       "booster_daily                     int64\n",
       "dtype: object"
      ]
     },
     "execution_count": 19,
     "metadata": {},
     "output_type": "execute_result"
    }
   ],
   "source": [
    "# Converting 'submission_date' column to datetime datatype.\n",
    "Covid_Vaccination_df['reported_date'] = pd.to_datetime(Covid_Vaccination_df['reported_date'])\n",
    "\n",
    "# Converting 'vaccinated_daily,fullyvaccinated_daily,booster_daily' columns to int datatype.\n",
    "Covid_Vaccination_df['vaccinated_daily'] = pd.to_numeric(Covid_Vaccination_df['vaccinated_daily'])\n",
    "Covid_Vaccination_df['fullyvaccinated_daily'] = pd.to_numeric(Covid_Vaccination_df['fullyvaccinated_daily'])\n",
    "Covid_Vaccination_df['booster_daily'] = pd.to_numeric(Covid_Vaccination_df['booster_daily'])\n",
    "Covid_Vaccination_df['vaccinated_cumulative'] = pd.to_numeric(Covid_Vaccination_df['vaccinated_cumulative'])\n",
    "\n",
    "# Checking the column data types.\n",
    "Covid_Vaccination_df.dtypes"
   ]
  },
  {
   "cell_type": "code",
   "execution_count": 20,
   "id": "bdd50978",
   "metadata": {},
   "outputs": [
    {
     "data": {
      "text/plain": [
       "reported_date            0\n",
       "state                    0\n",
       "vaccinated_daily         0\n",
       "vaccinated_cumulative    0\n",
       "fullyvaccinated_daily    0\n",
       "booster_daily            0\n",
       "dtype: int64"
      ]
     },
     "execution_count": 20,
     "metadata": {},
     "output_type": "execute_result"
    }
   ],
   "source": [
    "# Step 4:\n",
    "# Data Cleaning: Checking missing data.\n",
    "Covid_Vaccination_df.isna().sum()"
   ]
  },
  {
   "cell_type": "code",
   "execution_count": 21,
   "id": "9ddcb493",
   "metadata": {},
   "outputs": [
    {
     "data": {
      "text/html": [
       "<div>\n",
       "<style scoped>\n",
       "    .dataframe tbody tr th:only-of-type {\n",
       "        vertical-align: middle;\n",
       "    }\n",
       "\n",
       "    .dataframe tbody tr th {\n",
       "        vertical-align: top;\n",
       "    }\n",
       "\n",
       "    .dataframe thead th {\n",
       "        text-align: right;\n",
       "    }\n",
       "</style>\n",
       "<table border=\"1\" class=\"dataframe\">\n",
       "  <thead>\n",
       "    <tr style=\"text-align: right;\">\n",
       "      <th></th>\n",
       "      <th>reported_date</th>\n",
       "      <th>state</th>\n",
       "      <th>vaccinated_daily</th>\n",
       "      <th>vaccinated_cumulative</th>\n",
       "      <th>fullyvaccinated_daily</th>\n",
       "      <th>booster_daily</th>\n",
       "    </tr>\n",
       "  </thead>\n",
       "  <tbody>\n",
       "    <tr>\n",
       "      <th>14</th>\n",
       "      <td>2022-03-05</td>\n",
       "      <td>AL</td>\n",
       "      <td>2941</td>\n",
       "      <td>6114782</td>\n",
       "      <td>1044</td>\n",
       "      <td>1128</td>\n",
       "    </tr>\n",
       "    <tr>\n",
       "      <th>16</th>\n",
       "      <td>2022-03-05</td>\n",
       "      <td>WA</td>\n",
       "      <td>8831</td>\n",
       "      <td>13895843</td>\n",
       "      <td>2252</td>\n",
       "      <td>4331</td>\n",
       "    </tr>\n",
       "    <tr>\n",
       "      <th>20</th>\n",
       "      <td>2022-03-05</td>\n",
       "      <td>ID</td>\n",
       "      <td>1433</td>\n",
       "      <td>2372372</td>\n",
       "      <td>395</td>\n",
       "      <td>383</td>\n",
       "    </tr>\n",
       "    <tr>\n",
       "      <th>22</th>\n",
       "      <td>2022-03-05</td>\n",
       "      <td>ND</td>\n",
       "      <td>154</td>\n",
       "      <td>1064926</td>\n",
       "      <td>60</td>\n",
       "      <td>38</td>\n",
       "    </tr>\n",
       "    <tr>\n",
       "      <th>23</th>\n",
       "      <td>2022-03-05</td>\n",
       "      <td>KS</td>\n",
       "      <td>3957</td>\n",
       "      <td>4457284</td>\n",
       "      <td>1537</td>\n",
       "      <td>1116</td>\n",
       "    </tr>\n",
       "  </tbody>\n",
       "</table>\n",
       "</div>"
      ],
      "text/plain": [
       "   reported_date state  vaccinated_daily  vaccinated_cumulative  \\\n",
       "14    2022-03-05    AL              2941                6114782   \n",
       "16    2022-03-05    WA              8831               13895843   \n",
       "20    2022-03-05    ID              1433                2372372   \n",
       "22    2022-03-05    ND               154                1064926   \n",
       "23    2022-03-05    KS              3957                4457284   \n",
       "\n",
       "    fullyvaccinated_daily  booster_daily  \n",
       "14                   1044           1128  \n",
       "16                   2252           4331  \n",
       "20                    395            383  \n",
       "22                     60             38  \n",
       "23                   1537           1116  "
      ]
     },
     "execution_count": 21,
     "metadata": {},
     "output_type": "execute_result"
    }
   ],
   "source": [
    "# Step 5:\n",
    "# Identifying and removing the rows which are not in these fifty states.\n",
    "states = [\"AL\", \"AK\", \"AZ\", \"AR\", \"CA\", \"CO\", \"CT\", \"DC\", \"DE\", \"FL\", \"GA\", \n",
    "          \"HI\", \"ID\", \"IL\", \"IN\", \"IA\", \"KS\", \"KY\", \"LA\", \"ME\", \"MD\", \n",
    "          \"MA\", \"MI\", \"MN\", \"MS\", \"MO\", \"MT\", \"NE\", \"NV\", \"NH\", \"NJ\", \n",
    "          \"NM\", \"NY\", \"NC\", \"ND\", \"OH\", \"OK\", \"OR\", \"PA\", \"RI\", \"SC\", \n",
    "          \"SD\", \"TN\", \"TX\", \"UT\", \"VT\", \"VA\", \"WA\", \"WV\", \"WI\", \"WY\"]\n",
    "\n",
    "Covid_Vaccination_df.drop(Covid_Vaccination_df[~Covid_Vaccination_df['state'].isin(states)].index, inplace = True)\n",
    "\n",
    "# Deleting the unwanted rows.\n",
    "Covid_Vaccination_df.drop(Covid_Vaccination_df[(Covid_Vaccination_df.vaccinated_daily == 0) & (Covid_Vaccination_df.fullyvaccinated_daily == 0) & (Covid_Vaccination_df.booster_daily == 0)].index, inplace = True)\n",
    "Covid_Vaccination_df.drop(Covid_Vaccination_df[(Covid_Vaccination_df.vaccinated_daily < 0)].index, inplace = True)\n",
    "\n",
    "# Checking the data.\n",
    "Covid_Vaccination_df.head()"
   ]
  },
  {
   "cell_type": "markdown",
   "id": "65a4236b",
   "metadata": {},
   "source": [
    "### Milestone 5"
   ]
  },
  {
   "cell_type": "code",
   "execution_count": 419,
   "id": "0a70bb2c",
   "metadata": {},
   "outputs": [],
   "source": [
    "import sqlite3 as sql"
   ]
  },
  {
   "cell_type": "code",
   "execution_count": 446,
   "id": "a4de9fa5",
   "metadata": {},
   "outputs": [
    {
     "data": {
      "text/plain": [
       "44717"
      ]
     },
     "execution_count": 446,
     "metadata": {},
     "output_type": "execute_result"
    }
   ],
   "source": [
    "# Loading the datasets into a database.\n",
    "conn = sql.connect('CovidData.db')\n",
    "\n",
    "# Creating dataframe as tables into database.\n",
    "Covid_byState_df.to_sql('Covid_byState_tbl', conn)\n",
    "Covid_Vaccinated_by_state_df.to_sql('Covid_Vaccinated_byState_tbl', conn)\n",
    "Covid_Vaccination_df.to_sql('Covid_Vaccination_tbl', conn)"
   ]
  },
  {
   "cell_type": "code",
   "execution_count": 445,
   "id": "fcfa3c98",
   "metadata": {},
   "outputs": [],
   "source": [
    "#Creating a cursor object using the cursor() method\n",
    "cursor = conn.cursor()\n",
    "\n",
    "#Doping EMPLOYEE table if already exists\n",
    "cursor.execute(\"DROP TABLE Covid_byState_tbl\")\n",
    "cursor.execute(\"DROP TABLE Covid_Vaccinated_byState_tbl\")\n",
    "cursor.execute(\"DROP TABLE Covid_Vaccination_tbl\")\n",
    "\n",
    "\n",
    "#Commit your changes in the database\n",
    "conn.commit()"
   ]
  },
  {
   "cell_type": "code",
   "execution_count": 447,
   "id": "00b5d8b6",
   "metadata": {},
   "outputs": [
    {
     "data": {
      "text/plain": [
       "(35208, 8)"
      ]
     },
     "execution_count": 447,
     "metadata": {},
     "output_type": "execute_result"
    }
   ],
   "source": [
    "Covid_byState_df = pd.read_sql('SELECT * FROM Covid_byState_tbl', conn)\n",
    "Covid_byState_df.shape"
   ]
  },
  {
   "cell_type": "code",
   "execution_count": 448,
   "id": "39d85ae8",
   "metadata": {},
   "outputs": [
    {
     "data": {
      "text/plain": [
       "(51, 6)"
      ]
     },
     "execution_count": 448,
     "metadata": {},
     "output_type": "execute_result"
    }
   ],
   "source": [
    "Covid_Vaccinated_by_state_df = pd.read_sql('SELECT * FROM Covid_Vaccinated_bystate_tbl', conn)\n",
    "Covid_Vaccinated_by_state_df.shape"
   ]
  },
  {
   "cell_type": "code",
   "execution_count": 449,
   "id": "0f41a53e",
   "metadata": {},
   "outputs": [
    {
     "data": {
      "text/plain": [
       "(44717, 7)"
      ]
     },
     "execution_count": 449,
     "metadata": {},
     "output_type": "execute_result"
    }
   ],
   "source": [
    "Covid_Vaccination_df = pd.read_sql('SELECT * FROM Covid_Vaccination_tbl', conn)\n",
    "Covid_Vaccination_df.shape"
   ]
  },
  {
   "cell_type": "code",
   "execution_count": 450,
   "id": "51677842",
   "metadata": {},
   "outputs": [],
   "source": [
    "# Merging the first two datasets.\n",
    "Covid_Vac_Count_df = pd.merge(Covid_byState_df, Covid_Vaccinated_by_state_df[['state','state name','Vaccinated','pop %']], on='state')\n",
    "                                                                             "
   ]
  },
  {
   "cell_type": "code",
   "execution_count": 451,
   "id": "accb6221",
   "metadata": {},
   "outputs": [
    {
     "data": {
      "text/html": [
       "<div>\n",
       "<style scoped>\n",
       "    .dataframe tbody tr th:only-of-type {\n",
       "        vertical-align: middle;\n",
       "    }\n",
       "\n",
       "    .dataframe tbody tr th {\n",
       "        vertical-align: top;\n",
       "    }\n",
       "\n",
       "    .dataframe thead th {\n",
       "        text-align: right;\n",
       "    }\n",
       "</style>\n",
       "<table border=\"1\" class=\"dataframe\">\n",
       "  <thead>\n",
       "    <tr style=\"text-align: right;\">\n",
       "      <th></th>\n",
       "      <th>level_0</th>\n",
       "      <th>index</th>\n",
       "      <th>reported_date</th>\n",
       "      <th>state</th>\n",
       "      <th>tot_cases</th>\n",
       "      <th>new_case</th>\n",
       "      <th>tot_death</th>\n",
       "      <th>new_death</th>\n",
       "      <th>state name</th>\n",
       "      <th>Vaccinated</th>\n",
       "      <th>pop %</th>\n",
       "      <th>vaccinated_daily</th>\n",
       "      <th>fullyvaccinated_daily</th>\n",
       "      <th>booster_daily</th>\n",
       "      <th>vaccinated_cumulative</th>\n",
       "    </tr>\n",
       "  </thead>\n",
       "  <tbody>\n",
       "    <tr>\n",
       "      <th>0</th>\n",
       "      <td>0</td>\n",
       "      <td>1</td>\n",
       "      <td>2021-04-01 00:00:00</td>\n",
       "      <td>CA</td>\n",
       "      <td>3570660</td>\n",
       "      <td>2234</td>\n",
       "      <td>58090</td>\n",
       "      <td>154</td>\n",
       "      <td>California</td>\n",
       "      <td>32,416,845</td>\n",
       "      <td>82.0%</td>\n",
       "      <td>517979.0</td>\n",
       "      <td>232237.0</td>\n",
       "      <td>0.0</td>\n",
       "      <td>21216019.0</td>\n",
       "    </tr>\n",
       "    <tr>\n",
       "      <th>1</th>\n",
       "      <td>0</td>\n",
       "      <td>1</td>\n",
       "      <td>2021-04-01 00:00:00</td>\n",
       "      <td>CA</td>\n",
       "      <td>3570660</td>\n",
       "      <td>2234</td>\n",
       "      <td>58090</td>\n",
       "      <td>154</td>\n",
       "      <td>California</td>\n",
       "      <td>32,416,845</td>\n",
       "      <td>82.0%</td>\n",
       "      <td>380752.0</td>\n",
       "      <td>137303.0</td>\n",
       "      <td>0.0</td>\n",
       "      <td>18604164.0</td>\n",
       "    </tr>\n",
       "    <tr>\n",
       "      <th>2</th>\n",
       "      <td>1</td>\n",
       "      <td>2</td>\n",
       "      <td>2021-05-31 00:00:00</td>\n",
       "      <td>CA</td>\n",
       "      <td>3685032</td>\n",
       "      <td>644</td>\n",
       "      <td>62011</td>\n",
       "      <td>5</td>\n",
       "      <td>California</td>\n",
       "      <td>32,416,845</td>\n",
       "      <td>82.0%</td>\n",
       "      <td>20949.0</td>\n",
       "      <td>13926.0</td>\n",
       "      <td>0.0</td>\n",
       "      <td>39532587.0</td>\n",
       "    </tr>\n",
       "    <tr>\n",
       "      <th>3</th>\n",
       "      <td>1</td>\n",
       "      <td>2</td>\n",
       "      <td>2021-05-31 00:00:00</td>\n",
       "      <td>CA</td>\n",
       "      <td>3685032</td>\n",
       "      <td>644</td>\n",
       "      <td>62011</td>\n",
       "      <td>5</td>\n",
       "      <td>California</td>\n",
       "      <td>32,416,845</td>\n",
       "      <td>82.0%</td>\n",
       "      <td>136519.0</td>\n",
       "      <td>69117.0</td>\n",
       "      <td>0.0</td>\n",
       "      <td>38398021.0</td>\n",
       "    </tr>\n",
       "    <tr>\n",
       "      <th>4</th>\n",
       "      <td>2</td>\n",
       "      <td>3</td>\n",
       "      <td>2020-07-14 00:00:00</td>\n",
       "      <td>CA</td>\n",
       "      <td>336447</td>\n",
       "      <td>7285</td>\n",
       "      <td>7039</td>\n",
       "      <td>25</td>\n",
       "      <td>California</td>\n",
       "      <td>32,416,845</td>\n",
       "      <td>82.0%</td>\n",
       "      <td>0.0</td>\n",
       "      <td>0.0</td>\n",
       "      <td>0.0</td>\n",
       "      <td>0.0</td>\n",
       "    </tr>\n",
       "  </tbody>\n",
       "</table>\n",
       "</div>"
      ],
      "text/plain": [
       "   level_0  index        reported_date state  tot_cases  new_case  tot_death  \\\n",
       "0        0      1  2021-04-01 00:00:00    CA    3570660      2234      58090   \n",
       "1        0      1  2021-04-01 00:00:00    CA    3570660      2234      58090   \n",
       "2        1      2  2021-05-31 00:00:00    CA    3685032       644      62011   \n",
       "3        1      2  2021-05-31 00:00:00    CA    3685032       644      62011   \n",
       "4        2      3  2020-07-14 00:00:00    CA     336447      7285       7039   \n",
       "\n",
       "   new_death  state name  Vaccinated  pop %  vaccinated_daily  \\\n",
       "0        154  California  32,416,845  82.0%          517979.0   \n",
       "1        154  California  32,416,845  82.0%          380752.0   \n",
       "2          5  California  32,416,845  82.0%           20949.0   \n",
       "3          5  California  32,416,845  82.0%          136519.0   \n",
       "4         25  California  32,416,845  82.0%               0.0   \n",
       "\n",
       "   fullyvaccinated_daily  booster_daily  vaccinated_cumulative  \n",
       "0               232237.0            0.0             21216019.0  \n",
       "1               137303.0            0.0             18604164.0  \n",
       "2                13926.0            0.0             39532587.0  \n",
       "3                69117.0            0.0             38398021.0  \n",
       "4                    0.0            0.0                    0.0  "
      ]
     },
     "execution_count": 451,
     "metadata": {},
     "output_type": "execute_result"
    }
   ],
   "source": [
    "# Merging with third dataset.\n",
    "Covid_alldata_df = Covid_Vac_Count_df.merge(Covid_Vaccination_df[['state','reported_date','vaccinated_daily','fullyvaccinated_daily','booster_daily','vaccinated_cumulative']], how='left', on = ['state','reported_date'])\n",
    "\n",
    "# Removing nan values.\n",
    "Covid_alldata_df = Covid_alldata_df.fillna(0)\n",
    "\n",
    "# Viewing final dataset.\n",
    "Covid_alldata_df.head()"
   ]
  },
  {
   "cell_type": "markdown",
   "id": "a38d0271",
   "metadata": {},
   "source": [
    "### Visualization 1: Daily New Cases"
   ]
  },
  {
   "cell_type": "code",
   "execution_count": 426,
   "id": "0460ae56",
   "metadata": {},
   "outputs": [],
   "source": [
    "import matplotlib.pyplot as plt"
   ]
  },
  {
   "cell_type": "code",
   "execution_count": 576,
   "id": "3654052f",
   "metadata": {},
   "outputs": [
    {
     "data": {
      "image/png": "[encoded data removed]",
      "text/plain": [
       "<Figure size 432x288 with 1 Axes>"
      ]
     },
     "metadata": {
      "needs_background": "light"
     },
     "output_type": "display_data"
    }
   ],
   "source": [
    "# Plotting daily new cases.\n",
    "Covid_alldata_df['reported_date'] =  pd.to_datetime(Covid_alldata_df['reported_date'])\n",
    "Covid_alldata_df.groupby('reported_date')['new_case'].sum().plot(kind='line')\n",
    "plt.title('Daily New Cases')          \n",
    "plt.xlabel('Date')  \n",
    "plt.ylabel('No. of New cases in Millions')\n",
    "plt.show()"
   ]
  },
  {
   "cell_type": "markdown",
   "id": "dc928693",
   "metadata": {},
   "source": [
    "### Visualization 2: Daily New Deaths"
   ]
  },
  {
   "cell_type": "code",
   "execution_count": 497,
   "id": "35a8bc8a",
   "metadata": {},
   "outputs": [
    {
     "data": {
      "image/png": "[encoded data removed]",
      "text/plain": [
       "<Figure size 432x288 with 1 Axes>"
      ]
     },
     "metadata": {
      "needs_background": "light"
     },
     "output_type": "display_data"
    }
   ],
   "source": [
    "# Plotting daily new deaths.\n",
    "Covid_alldata_df['reported_date'] =  pd.to_datetime(Covid_alldata_df['reported_date'])\n",
    "Covid_alldata_df.groupby('reported_date')['new_death'].sum().plot(kind='line',color = 'violet')\n",
    "plt.title('Daily deaths')          \n",
    "plt.xlabel('Date')  \n",
    "plt.ylabel('No. of deaths')\n",
    "plt.show()"
   ]
  },
  {
   "cell_type": "markdown",
   "id": "0960d7b3",
   "metadata": {},
   "source": [
    "### Visualization 3: Total administered vaccinations graph"
   ]
  },
  {
   "cell_type": "code",
   "execution_count": 575,
   "id": "3339d8fc",
   "metadata": {},
   "outputs": [
    {
     "data": {
      "image/png": "[encoded data removed]",
      "text/plain": [
       "<Figure size 432x288 with 1 Axes>"
      ]
     },
     "metadata": {
      "needs_background": "light"
     },
     "output_type": "display_data"
    }
   ],
   "source": [
    "# Plotting administered vaccinations graph\n",
    "grouped_df = Covid_Vaccination_df.groupby(['reported_date','state'])['vaccinated_cumulative'].max()\n",
    "vaccinated_grouped_df = grouped_df.reset_index()\n",
    "vaccinated_grouped_df['reported_date'] =  pd.to_datetime(vaccinated_grouped_df['reported_date'])\n",
    "vaccinated_grouped_df.groupby(['reported_date'])['vaccinated_cumulative'].sum().plot(kind='line', color= 'green')\n",
    "plt.title('Vaccination Trend')          \n",
    "plt.xlabel('Date')  \n",
    "plt.ylabel('No. of vaccinations in 100 millions')\n",
    "plt.show()"
   ]
  },
  {
   "cell_type": "markdown",
   "id": "343d80e5",
   "metadata": {},
   "source": [
    "### Visualization 4: Top 10 States with most deaths and Top 10 States with most vaccinations"
   ]
  },
  {
   "cell_type": "code",
   "execution_count": 573,
   "id": "3475f56e",
   "metadata": {},
   "outputs": [
    {
     "data": {
      "image/png": "[encoded data removed]",
      "text/plain": [
       "<Figure size 432x288 with 1 Axes>"
      ]
     },
     "metadata": {},
     "output_type": "display_data"
    }
   ],
   "source": [
    "#Plotting the Top 10 states with most deaths\n",
    "Covid_alldata_df.groupby('state name')['new_death'].sum().nlargest(10).plot(kind='pie')\n",
    "plt.title('Top 10 states with most deaths')           \n",
    "plt.ylabel('')\n",
    "plt.show()"
   ]
  },
  {
   "cell_type": "code",
   "execution_count": 574,
   "id": "c03ab02c",
   "metadata": {},
   "outputs": [
    {
     "data": {
      "image/png": "[encoded data removed]",
      "text/plain": [
       "<Figure size 432x288 with 1 Axes>"
      ]
     },
     "metadata": {},
     "output_type": "display_data"
    }
   ],
   "source": [
    "#Plotting the Top 10 fully vaccinated states\n",
    "Covid_alldata_df.groupby('state name')['vaccinated_cumulative'].max().nlargest(10).plot(kind='pie')\n",
    "plt.title('Top 10 Vaccinated States')           \n",
    "plt.ylabel('')\n",
    "plt.show()"
   ]
  },
  {
   "cell_type": "markdown",
   "id": "4d542965",
   "metadata": {},
   "source": [
    "### Visualization 5: Top 15 Vaccinated percentage states"
   ]
  },
  {
   "cell_type": "code",
   "execution_count": 577,
   "id": "d28959d5",
   "metadata": {},
   "outputs": [
    {
     "data": {
      "image/png": "[encoded data removed]",
      "text/plain": [
       "<Figure size 432x288 with 1 Axes>"
      ]
     },
     "metadata": {
      "needs_background": "light"
     },
     "output_type": "display_data"
    }
   ],
   "source": [
    "# Plotting the Top 15 Vaccinated percentage states as Bar\n",
    "Covid_alldata_df['pop %'] =  pd.to_numeric(Covid_alldata_df['pop %'])\n",
    "Covid_alldata_df.groupby('state name')['pop %'].max().nlargest(15).plot(kind='bar')\n",
    "plt.title('Top 15 Vaccinated percentage states')           \n",
    "plt.ylabel('')\n",
    "plt.show()"
   ]
  },
  {
   "cell_type": "markdown",
   "id": "a6d58ba2",
   "metadata": {},
   "source": [
    "### Summary:\n",
    "In the current pandemic, due to COVID-19, people who had not been vaccinated has a higher chance of testing positive for COVID-19 and dying from COVID-19 than those who had been fully vaccinated. Unvaccinated persons had greater case and mortality rates in all age categories than fully vaccinated people of the same age. In this analysis, we wanted to understand the extent of control of deaths and spread of Covid-19 after the vaccinations are approved and started to distribute in United States.\n",
    "\n",
    "#### Visualizations:\n",
    "Besides showing the numbers, each vizualization shows the impact and the reciprocations taken by the US govt after the massive spread of Covid-19 in US.\n",
    "* Visualization 1 - Daily New Cases shows the trend of increase in the number of new cases every day in the US. The number of new cases rapidly increase during the months of Dec 2021 and Jan 2022. This is mainly because of the new variant of the Covid-19. The spread of this new variant was extremely high so the number of daily new cases also increased. \n",
    "* That being said, during this same period, the number of daily deaths due to Covid-19 did not get exponentially like the number of new cases, as per the Visualization 3 - Daily New Death. This is because United States had the highest number of vaccinated people according to Visualization 3 - Total administered vaccinations graph. This shows the significance and important of being vaccinated. It shows the success of US govt to have the vaccinations administered properly over the country rapidly. Additionally, I wanted to show how each State has reacted to the increase in deaths due to Covid-19. \n",
    "* Visualization 4 - Top 10 States with most deaths and Top 10 States with most vaccinations tells us the Top 10 states had most deaths due to Covid-19 and almost all of the had to have rapid increase in vaccinations too. This also in a way tells us vaccinations is one of the few ways to fight this global pandemic. \n",
    "* And lastly, the Visualization 5 - Top 15 Vaccinated percentage states tells us what are the states that effectively get vaccinated to avoid this massive spread of this virus. \n",
    "\n",
    "So, this tells us one of the ways to increase our chances of surviving Covid-19 infection is to get fully vaccinated. The more the population that get vaccinated, the lesser is the number of deaths due to Covid-19. United States government did a very good job in providing the vaccinations to the people. The Centers for Disease Control and Prevention said on Friday that about 253.9 million people had received at least one dose of a Covid-19 vaccine, including about 216 million people who had been fully vaccinated by the Johnson & Johnson single-dose vaccine or the two-dose series made by Pfizer-BioNTech and Moderna. The C.D.C. also reported that about 94.9 million fully vaccinated people have received an additional vaccine dose or a booster dose, the highest level of protection against the virus.\n",
    "All across the country, mask mandates have eased, restrictions have lifted and most states have gone back to business as usual. It appears nearly the entire country will be open with few restrictions by the Fourth of July! Wishing for the best."
   ]
  }
 ],
 "metadata": {
  "kernelspec": {
   "display_name": "Python 3 (ipykernel)",
   "language": "python",
   "name": "python3"
  },
  "language_info": {
   "codemirror_mode": {
    "name": "ipython",
    "version": 3
   },
   "file_extension": ".py",
   "mimetype": "text/x-python",
   "name": "python",
   "nbconvert_exporter": "python",
   "pygments_lexer": "ipython3",
   "version": "3.8.12"
  }
 },
 "nbformat": 4,
 "nbformat_minor": 5
}
