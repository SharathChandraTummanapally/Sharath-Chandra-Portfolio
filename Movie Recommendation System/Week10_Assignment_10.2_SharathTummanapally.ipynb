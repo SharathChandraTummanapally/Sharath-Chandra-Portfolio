{
 "cells": [
  {
   "cell_type": "code",
   "execution_count": 120,
   "id": "4b2886d6",
   "metadata": {},
   "outputs": [],
   "source": [
    "import pandas as pd"
   ]
  },
  {
   "cell_type": "code",
   "execution_count": 168,
   "id": "32af9cbb",
   "metadata": {},
   "outputs": [],
   "source": [
    "# Loading movie, ratings and tags csvs into dataframes.\n",
    "\n",
    "movies_df = pd.read_csv('Data/ml-latest-small/movies.csv')\n",
    "ratings_df = pd.read_csv('Data/ml-latest-small/ratings.csv')\n",
    "tags_df = pd.read_csv('Data/ml-latest-small/tags.csv')"
   ]
  },
  {
   "cell_type": "code",
   "execution_count": 90,
   "id": "73e70626",
   "metadata": {},
   "outputs": [
    {
     "data": {
      "text/html": [
       "<div>\n",
       "<style scoped>\n",
       "    .dataframe tbody tr th:only-of-type {\n",
       "        vertical-align: middle;\n",
       "    }\n",
       "\n",
       "    .dataframe tbody tr th {\n",
       "        vertical-align: top;\n",
       "    }\n",
       "\n",
       "    .dataframe thead th {\n",
       "        text-align: right;\n",
       "    }\n",
       "</style>\n",
       "<table border=\"1\" class=\"dataframe\">\n",
       "  <thead>\n",
       "    <tr style=\"text-align: right;\">\n",
       "      <th></th>\n",
       "      <th>movieId</th>\n",
       "      <th>rating</th>\n",
       "    </tr>\n",
       "  </thead>\n",
       "  <tbody>\n",
       "    <tr>\n",
       "      <th>0</th>\n",
       "      <td>1</td>\n",
       "      <td>4.0</td>\n",
       "    </tr>\n",
       "    <tr>\n",
       "      <th>1</th>\n",
       "      <td>2</td>\n",
       "      <td>3.0</td>\n",
       "    </tr>\n",
       "    <tr>\n",
       "      <th>2</th>\n",
       "      <td>3</td>\n",
       "      <td>3.0</td>\n",
       "    </tr>\n",
       "    <tr>\n",
       "      <th>3</th>\n",
       "      <td>4</td>\n",
       "      <td>2.0</td>\n",
       "    </tr>\n",
       "    <tr>\n",
       "      <th>4</th>\n",
       "      <td>5</td>\n",
       "      <td>3.0</td>\n",
       "    </tr>\n",
       "  </tbody>\n",
       "</table>\n",
       "</div>"
      ],
      "text/plain": [
       "   movieId  rating\n",
       "0        1     4.0\n",
       "1        2     3.0\n",
       "2        3     3.0\n",
       "3        4     2.0\n",
       "4        5     3.0"
      ]
     },
     "execution_count": 90,
     "metadata": {},
     "output_type": "execute_result"
    }
   ],
   "source": [
    "# Calculating average rating by movie.\n",
    "ratings_df = ratings_df.groupby('movieId')['rating'].mean().round().reset_index()\n",
    "ratings_df.head()"
   ]
  },
  {
   "cell_type": "code",
   "execution_count": 91,
   "id": "c0b6c1a2",
   "metadata": {},
   "outputs": [],
   "source": [
    "# Combining all tags based on movie.\n",
    "tags_df = tags_df.groupby(['movieId'], as_index=False).agg({'tag': '|'.join})"
   ]
  },
  {
   "cell_type": "code",
   "execution_count": 92,
   "id": "121cc10b",
   "metadata": {},
   "outputs": [
    {
     "data": {
      "text/html": [
       "<div>\n",
       "<style scoped>\n",
       "    .dataframe tbody tr th:only-of-type {\n",
       "        vertical-align: middle;\n",
       "    }\n",
       "\n",
       "    .dataframe tbody tr th {\n",
       "        vertical-align: top;\n",
       "    }\n",
       "\n",
       "    .dataframe thead th {\n",
       "        text-align: right;\n",
       "    }\n",
       "</style>\n",
       "<table border=\"1\" class=\"dataframe\">\n",
       "  <thead>\n",
       "    <tr style=\"text-align: right;\">\n",
       "      <th></th>\n",
       "      <th>movieId</th>\n",
       "      <th>title</th>\n",
       "      <th>genres</th>\n",
       "      <th>rating</th>\n",
       "      <th>tag</th>\n",
       "    </tr>\n",
       "  </thead>\n",
       "  <tbody>\n",
       "    <tr>\n",
       "      <th>0</th>\n",
       "      <td>1</td>\n",
       "      <td>Toy Story (1995)</td>\n",
       "      <td>Adventure|Animation|Children|Comedy|Fantasy</td>\n",
       "      <td>4.0</td>\n",
       "      <td>pixar|pixar|fun</td>\n",
       "    </tr>\n",
       "    <tr>\n",
       "      <th>1</th>\n",
       "      <td>2</td>\n",
       "      <td>Jumanji (1995)</td>\n",
       "      <td>Adventure|Children|Fantasy</td>\n",
       "      <td>3.0</td>\n",
       "      <td>fantasy|magic board game|Robin Williams|game</td>\n",
       "    </tr>\n",
       "    <tr>\n",
       "      <th>2</th>\n",
       "      <td>3</td>\n",
       "      <td>Grumpier Old Men (1995)</td>\n",
       "      <td>Comedy|Romance</td>\n",
       "      <td>3.0</td>\n",
       "      <td>moldy|old</td>\n",
       "    </tr>\n",
       "    <tr>\n",
       "      <th>3</th>\n",
       "      <td>4</td>\n",
       "      <td>Waiting to Exhale (1995)</td>\n",
       "      <td>Comedy|Drama|Romance</td>\n",
       "      <td>2.0</td>\n",
       "      <td>NaN</td>\n",
       "    </tr>\n",
       "    <tr>\n",
       "      <th>4</th>\n",
       "      <td>5</td>\n",
       "      <td>Father of the Bride Part II (1995)</td>\n",
       "      <td>Comedy</td>\n",
       "      <td>3.0</td>\n",
       "      <td>pregnancy|remake</td>\n",
       "    </tr>\n",
       "  </tbody>\n",
       "</table>\n",
       "</div>"
      ],
      "text/plain": [
       "   movieId                               title  \\\n",
       "0        1                    Toy Story (1995)   \n",
       "1        2                      Jumanji (1995)   \n",
       "2        3             Grumpier Old Men (1995)   \n",
       "3        4            Waiting to Exhale (1995)   \n",
       "4        5  Father of the Bride Part II (1995)   \n",
       "\n",
       "                                        genres  rating  \\\n",
       "0  Adventure|Animation|Children|Comedy|Fantasy     4.0   \n",
       "1                   Adventure|Children|Fantasy     3.0   \n",
       "2                               Comedy|Romance     3.0   \n",
       "3                         Comedy|Drama|Romance     2.0   \n",
       "4                                       Comedy     3.0   \n",
       "\n",
       "                                            tag  \n",
       "0                               pixar|pixar|fun  \n",
       "1  fantasy|magic board game|Robin Williams|game  \n",
       "2                                     moldy|old  \n",
       "3                                           NaN  \n",
       "4                              pregnancy|remake  "
      ]
     },
     "execution_count": 92,
     "metadata": {},
     "output_type": "execute_result"
    }
   ],
   "source": [
    "# Merging all three dataframes together.\n",
    "final_mov_df = movies_df.merge(ratings_df, on='movieId', how='left').merge(tags_df, on='movieId', how='left')\n",
    "final_mov_df.head()"
   ]
  },
  {
   "cell_type": "code",
   "execution_count": 164,
   "id": "177c779c",
   "metadata": {},
   "outputs": [],
   "source": [
    "def mov_rec(movie):\n",
    "    '''function to get 10 movie recommendations.'''\n",
    "    mov_details_df = final_mov_df[final_mov_df['title'] == movie] \n",
    "    \n",
    "    if not mov_details_df.empty:\n",
    "        movie_list = []\n",
    "        \n",
    "        rating = mov_details_df.rating.values[0]\n",
    "        tag = mov_details_df.tag.values[0]\n",
    "        \n",
    "        if not pd.isna(tag):\n",
    "            movs_df = final_mov_df[(final_mov_df['title'] != movie) & (final_mov_df['tag'].str.contains(tag, na=False))]\n",
    "            top10_mov_df = movs_df[movs_df.rating == rating].head(10)\n",
    "        else:\n",
    "            top10_mov_df = final_mov_df[(final_mov_df['title'] != movie) & (final_mov_df.rating == rating)].head(10)\n",
    "        \n",
    "        movie_list = list(set(top10_mov_df.title))\n",
    "        \n",
    "        for movie in movie_list:\n",
    "            print(movie)\n",
    "\n",
    "    else:\n",
    "        print(\"Couldn't find the movie. Please try giving other name!\")\n",
    "        "
   ]
  },
  {
   "cell_type": "code",
   "execution_count": 167,
   "id": "d497d104",
   "metadata": {},
   "outputs": [
    {
     "name": "stdout",
     "output_type": "stream",
     "text": [
      "Persuasion (1995)\n",
      "Eat Drink Man Woman (Yin shi nan nu) (1994)\n",
      "To Live (Huozhe) (1994)\n",
      "Cry, the Beloved Country (1995)\n",
      "Once Were Warriors (1994)\n",
      "Crumb (1994)\n",
      "Cold Comfort Farm (1995)\n",
      "My Left Foot (1989)\n",
      "When We Were Kings (1996)\n",
      "Wonderful, Horrible Life of Leni Riefenstahl, The (Macht der Bilder: Leni Riefenstahl, Die) (1993)\n"
     ]
    }
   ],
   "source": [
    "# Giving the movie for recommendation\n",
    "movie = 'Lone Star (1996)'\n",
    "\n",
    "# Calling the function for recommendation\n",
    "mov_rec(movie)"
   ]
  },
  {
   "cell_type": "markdown",
   "id": "96745a60",
   "metadata": {},
   "source": [
    "### Explanation:\n",
    "\n",
    "Before I started to work on the my movie Recommendation system, I started with updating the rating dataframe by calculating average rating for each movie. Next, I combined all tags based on movie and finally merged all three updated dataframes for movie, ratings and tags together.\n",
    "\n",
    "For my recommendation system, when we are querying or entering a movie name, the function first searches for the tags and ratings of that particular movie and then it fetches the Top 10 rated movies that have the same tags. If the tags do not match, we are providing the Top 10 movies that are matching the rating."
   ]
  },
  {
   "cell_type": "code",
   "execution_count": null,
   "id": "325004b9",
   "metadata": {},
   "outputs": [],
   "source": []
  }
 ],
 "metadata": {
  "kernelspec": {
   "display_name": "Python 3 (ipykernel)",
   "language": "python",
   "name": "python3"
  },
  "language_info": {
   "codemirror_mode": {
    "name": "ipython",
    "version": 3
   },
   "file_extension": ".py",
   "mimetype": "text/x-python",
   "name": "python",
   "nbconvert_exporter": "python",
   "pygments_lexer": "ipython3",
   "version": "3.8.12"
  }
 },
 "nbformat": 4,
 "nbformat_minor": 5
}
