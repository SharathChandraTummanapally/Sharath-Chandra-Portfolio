{
 "cells": [
  {
   "cell_type": "markdown",
   "id": "6962772e",
   "metadata": {},
   "source": [
    "### Retrieving Data Correctly From Databases \n",
    "\n",
    "In this activity, we have the persons table:\n",
    "\n",
    "We have the pets table: Figure 8.16: The pets table As we can see, the id column in the persons table (which is an integer) serves as the primary key for that table and as a foreign key for the pet table, which is linked via the owner_id column. The persons table has the following columns: first_name: The first name of the person last_name: The last name of the person (can be \"null\") age: The age of the person city: The city from where he/she is from zip_code: The zip code of the city The pets table has the following columns:\n",
    "\n",
    "pet_name: The name of the pet. pet_type: What type of pet it is, for example, cat, dog, and so on. Due to a lack of further information, we do not know which number represents what, but it is an integer and can be null. treatment_done: It is also an integer column, and 0 here represents \"No\", whereas 1 represents \"Yes\". The name of the SQLite DB is petsdb and it is supplied along with the Activity notebook. These steps will help you complete this activity:"
   ]
  },
  {
   "cell_type": "markdown",
   "id": "a1b310cb",
   "metadata": {},
   "source": [
    "Connect to petsDB and check whether the connection has been successful."
   ]
  },
  {
   "cell_type": "code",
   "execution_count": 19,
   "id": "5d614e09",
   "metadata": {},
   "outputs": [],
   "source": [
    "import sqlite3 \n",
    "conn = sqlite3.connect(\"Data/petsdb\")"
   ]
  },
  {
   "cell_type": "code",
   "execution_count": 29,
   "id": "1805eaef",
   "metadata": {},
   "outputs": [
    {
     "name": "stdout",
     "output_type": "stream",
     "text": [
      "Connection successful!\n"
     ]
    }
   ],
   "source": [
    "def check_conn(conn):\n",
    "    '''function to check if connection is successful.'''\n",
    "    try:\n",
    "        print('Connection successful!')\n",
    "    except Exception as ex:\n",
    "        print('Connection failed!')\n",
    "\n",
    "# Testing the connection.\n",
    "check_conn(conn)"
   ]
  },
  {
   "cell_type": "markdown",
   "id": "49b12e95",
   "metadata": {},
   "source": [
    "Find the different age groups in the persons database."
   ]
  },
  {
   "cell_type": "code",
   "execution_count": 30,
   "id": "5df42bdb",
   "metadata": {},
   "outputs": [
    {
     "name": "stdout",
     "output_type": "stream",
     "text": [
      "Age: 5 count: 2\n",
      "Age: 6 count: 1\n",
      "Age: 7 count: 1\n",
      "Age: 8 count: 3\n",
      "Age: 9 count: 1\n",
      "Age: 11 count: 2\n",
      "Age: 12 count: 3\n",
      "Age: 13 count: 1\n",
      "Age: 14 count: 4\n",
      "Age: 16 count: 2\n",
      "Age: 17 count: 2\n",
      "Age: 18 count: 3\n",
      "Age: 19 count: 1\n",
      "Age: 22 count: 3\n",
      "Age: 23 count: 2\n",
      "Age: 24 count: 3\n",
      "Age: 25 count: 2\n",
      "Age: 27 count: 1\n",
      "Age: 30 count: 1\n",
      "Age: 31 count: 3\n",
      "Age: 32 count: 1\n",
      "Age: 33 count: 1\n",
      "Age: 34 count: 2\n",
      "Age: 35 count: 3\n",
      "Age: 36 count: 3\n",
      "Age: 37 count: 1\n",
      "Age: 39 count: 2\n",
      "Age: 40 count: 1\n",
      "Age: 42 count: 1\n",
      "Age: 44 count: 2\n",
      "Age: 48 count: 2\n",
      "Age: 49 count: 1\n",
      "Age: 50 count: 1\n",
      "Age: 51 count: 2\n",
      "Age: 52 count: 2\n",
      "Age: 53 count: 2\n",
      "Age: 54 count: 2\n",
      "Age: 58 count: 1\n",
      "Age: 59 count: 1\n",
      "Age: 60 count: 1\n",
      "Age: 61 count: 1\n",
      "Age: 62 count: 2\n",
      "Age: 63 count: 1\n",
      "Age: 65 count: 2\n",
      "Age: 66 count: 2\n",
      "Age: 67 count: 1\n",
      "Age: 68 count: 3\n",
      "Age: 69 count: 1\n",
      "Age: 70 count: 1\n",
      "Age: 71 count: 4\n",
      "Age: 72 count: 1\n",
      "Age: 73 count: 5\n",
      "Age: 74 count: 3\n"
     ]
    }
   ],
   "source": [
    "# Creating cursor object.\n",
    "c_obj = conn.cursor()\n",
    "\n",
    "# Finding the different age groups in the persons database.\n",
    "for people, age in c_obj.execute(\"SELECT count(*), age FROM persons GROUP BY age\"):\n",
    "    print('Age:', age, 'count:', people)"
   ]
  },
  {
   "cell_type": "markdown",
   "id": "8857c289",
   "metadata": {},
   "source": [
    "Find the age group that has the maximum number of people."
   ]
  },
  {
   "cell_type": "code",
   "execution_count": 31,
   "id": "49586fd8",
   "metadata": {},
   "outputs": [
    {
     "name": "stdout",
     "output_type": "stream",
     "text": [
      "Age: 73 count: 5\n"
     ]
    }
   ],
   "source": [
    "# Finding the age group that has the maximum number of people.\n",
    "for people, age in c_obj.execute(\"SELECT count(*), age FROM persons GROUP BY age ORDER BY count(*) DESC\"):\n",
    "    print('Age:', age, 'count:', people)\n",
    "    # Break to only print the first entry\n",
    "    break"
   ]
  },
  {
   "cell_type": "markdown",
   "id": "e986eaf3",
   "metadata": {},
   "source": [
    "Find the people who do not have a last name."
   ]
  },
  {
   "cell_type": "code",
   "execution_count": 23,
   "id": "479c84e8",
   "metadata": {},
   "outputs": [
    {
     "name": "stdout",
     "output_type": "stream",
     "text": [
      "First name: Erica\n",
      "First name: Jordi\n",
      "First name: Chasity\n",
      "First name: Gregg\n",
      "First name: Cary\n",
      "First name: Francisca\n",
      "First name: Raleigh\n",
      "First name: Maria\n",
      "First name: Mariane\n",
      "First name: Mona\n",
      "First name: Kayla\n",
      "First name: Karlie\n",
      "First name: Morris\n",
      "First name: Sandy\n",
      "First name: Hector\n",
      "First name: Hiram\n",
      "First name: Tressa\n",
      "First name: Berry\n",
      "First name: Pearline\n",
      "First name: Maynard\n",
      "First name: Dorian\n",
      "First name: Mylene\n",
      "First name: Lafayette\n",
      "First name: Tara\n",
      "First name: Destiny\n",
      "First name: Lesly\n",
      "First name: Perry\n",
      "First name: Maritza\n",
      "First name: Grant\n",
      "First name: Laury\n",
      "First name: Name\n",
      "First name: Estefania\n",
      "First name: Destiney\n",
      "First name: Jaquelin\n",
      "First name: Alfonzo\n",
      "First name: Lisandro\n",
      "First name: Priscilla\n",
      "First name: Elenora\n",
      "First name: Rudolph\n",
      "First name: Ona\n",
      "First name: Rebeca\n",
      "First name: Sigurd\n",
      "First name: Alice\n",
      "First name: Dane\n",
      "First name: Judge\n",
      "First name: Allene\n",
      "First name: Jalen\n",
      "First name: Myron\n",
      "First name: Travon\n",
      "First name: Shayna\n",
      "First name: Myah\n",
      "First name: Letha\n",
      "First name: Felton\n",
      "First name: London\n",
      "First name: Koby\n",
      "First name: Golden\n",
      "First name: Anissa\n",
      "First name: Sid\n",
      "First name: Ernesto\n",
      "First name: Josianne\n"
     ]
    }
   ],
   "source": [
    "# Finding the people who do not have a last name.\n",
    "for name in c_obj.execute(\"SELECT first_name FROM persons WHERE last_name IS null\"):\n",
    "    print('First name:', name[0])"
   ]
  },
  {
   "cell_type": "markdown",
   "id": "8b346f06",
   "metadata": {},
   "source": [
    "Find out how many people have more than one pet."
   ]
  },
  {
   "cell_type": "code",
   "execution_count": 33,
   "id": "eda0320c",
   "metadata": {},
   "outputs": [
    {
     "name": "stdout",
     "output_type": "stream",
     "text": [
      "43 people have more than one pet\n"
     ]
    }
   ],
   "source": [
    "# Counting the people having more than one pet.\n",
    "res = c_obj.execute(\"SELECT count(*) FROM (SELECT count(owner_id) FROM pets GROUP BY owner_id HAVING count(owner_id)>1)\")\n",
    "\n",
    "# Printing the result.\n",
    "for row in res:\n",
    "    print(row[0], 'people have more than one pet')"
   ]
  },
  {
   "cell_type": "markdown",
   "id": "48699834",
   "metadata": {},
   "source": [
    "Find out how many pets have received treatment.\n"
   ]
  },
  {
   "cell_type": "code",
   "execution_count": 35,
   "id": "94240602",
   "metadata": {},
   "outputs": [
    {
     "name": "stdout",
     "output_type": "stream",
     "text": [
      "36 pets have received treatment\n"
     ]
    }
   ],
   "source": [
    "# Finding the number of pets that have received treatment.\n",
    "res = c_obj.execute(\"SELECT count(*) FROM pets WHERE treatment_done=1\")\n",
    "\n",
    "# Printing the result.\n",
    "for row in res:\n",
    "    print(row[0], 'pets have received treatment')"
   ]
  },
  {
   "cell_type": "markdown",
   "id": "bef74adf",
   "metadata": {},
   "source": [
    "Find out how many pets have received treatment and the type of pet is known."
   ]
  },
  {
   "cell_type": "code",
   "execution_count": 36,
   "id": "4c69cfac",
   "metadata": {},
   "outputs": [
    {
     "name": "stdout",
     "output_type": "stream",
     "text": [
      "16 pets have receieved treatment with a known type of pet\n"
     ]
    }
   ],
   "source": [
    "# Finding the number of pets that received treatment and the type of pet is known.\n",
    "res = c_obj.execute(\"SELECT count(*) FROM pets WHERE treatment_done=1 AND pet_type IS NOT null\")\n",
    "\n",
    "# Printing the result\n",
    "for row in res:\n",
    "    print(row[0], 'pets have receieved treatment with a known type of pet')"
   ]
  },
  {
   "cell_type": "markdown",
   "id": "d3e65d77",
   "metadata": {},
   "source": [
    "Find out how many pets are from the city called east port."
   ]
  },
  {
   "cell_type": "code",
   "execution_count": 38,
   "id": "37489aaf",
   "metadata": {},
   "outputs": [
    {
     "name": "stdout",
     "output_type": "stream",
     "text": [
      "49 pets are from East Port\n"
     ]
    }
   ],
   "source": [
    "# Finding the number of pets that are from the city called east port.\n",
    "res = c_obj.execute(\"SELECT count(*) FROM pets JOIN persons on pets.owner_id = persons.id WHERE persons.city='east port'\")\n",
    "\n",
    "# Printing the result.\n",
    "for row in res:\n",
    "    print(row[0], 'pets are from East Port')"
   ]
  },
  {
   "cell_type": "markdown",
   "id": "b8d890ba",
   "metadata": {},
   "source": [
    "Find out how many pets are from the city called east port and who received a treatment."
   ]
  },
  {
   "cell_type": "code",
   "execution_count": 39,
   "id": "ef96583f",
   "metadata": {},
   "outputs": [
    {
     "name": "stdout",
     "output_type": "stream",
     "text": [
      "11 treated pets are from East Port\n"
     ]
    }
   ],
   "source": [
    "# Finding the number of pets that are from the city called east port and who received a treatment.\n",
    "res = c.execute(\"SELECT count(*) FROM pets JOIN persons on pets.owner_id = persons.id WHERE persons.city='east port' AND pets.treatment_done=1\")\n",
    "\n",
    "# Printing the result.\n",
    "for row in res:\n",
    "    print(row[0], 'treated pets are from East Port')"
   ]
  },
  {
   "cell_type": "code",
   "execution_count": null,
   "id": "8b9f2f79",
   "metadata": {},
   "outputs": [],
   "source": []
  }
 ],
 "metadata": {
  "kernelspec": {
   "display_name": "Python 3 (ipykernel)",
   "language": "python",
   "name": "python3"
  },
  "language_info": {
   "codemirror_mode": {
    "name": "ipython",
    "version": 3
   },
   "file_extension": ".py",
   "mimetype": "text/x-python",
   "name": "python",
   "nbconvert_exporter": "python",
   "pygments_lexer": "ipython3",
   "version": "3.8.12"
  }
 },
 "nbformat": 4,
 "nbformat_minor": 5
}
